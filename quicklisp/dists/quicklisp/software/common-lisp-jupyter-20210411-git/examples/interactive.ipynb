{
 "cells": [
  {
   "cell_type": "code",
   "execution_count": 1,
   "metadata": {},
   "outputs": [
    {
     "data": {
      "text/plain": [
       "PLIST"
      ]
     },
     "execution_count": 1,
     "metadata": {},
     "output_type": "execute_result"
    }
   ],
   "source": [
    "(defparameter plist (list :lima 7 :yankee \"bar\"))"
   ]
  },
  {
   "cell_type": "code",
   "execution_count": 2,
   "metadata": {},
   "outputs": [
    {
     "data": {
      "application/vnd.jupyter.widget-view+json": {
       "model_id": "3115f719ece74fbfb00d6b4ecbb1aa16",
       "version_major": 2,
       "version_minor": 0
      },
      "text/plain": [
       "A Jupyter Widget"
      ]
     },
     "metadata": {},
     "output_type": "display_data"
    }
   ],
   "source": [
    "(jupyter-widgets:make-interactive-plist\n",
    "  '((:indicator :alfa :type :bool\n",
    "     :label \"alfa (bool check)\")\n",
    "    (:indicator :bravo :type :bool :style :toggle\n",
    "     :label \"bravo (bool toggle)\" :description \"toggle\")\n",
    "    (:indicator :charlie :type :color :default \"blue\"\n",
    "     :label \"charlie (color)\")\n",
    "    (:indicator :delta :type :date\n",
    "     :label \"delta (date)\")\n",
    "    (:indicator :echo :type :file\n",
    "     :label \"echo (file)\" :accept \".txt\")\n",
    "    (:indicator :foxtrot :type :file-multiple\n",
    "     :label \"foxtrot (file-multiple)\")\n",
    "    (:indicator :golf :type :float\n",
    "     :label \"golf (float text)\")\n",
    "    (:indicator :hotel :type :float :style :log-slider\n",
    "     :label \"hotel (float log-slider)\")\n",
    "    (:indicator :india :type :float :style :slider\n",
    "     :label \"india (float slider)\")\n",
    "    (:indicator :juliett :type :float :style :bounded-text\n",
    "     :label \"juliett (float bounded-text)\")\n",
    "    (:indicator :kilo :type :float-range\n",
    "     :label \"kilo (float-range)\")\n",
    "    (:indicator :lima :type :int :default 3\n",
    "     :label \"lima (int text)\")\n",
    "    (:indicator :mike :type :int :style :slider\n",
    "     :label \"mike (int slider)\")\n",
    "    (:indicator :november :type :int :style :bounded-text :min -10 :max 10\n",
    "     :label \"november (int bounded-text)\")\n",
    "    (:indicator :oscar :type :int-range\n",
    "     :label \"oscar (int-range)\")\n",
    "    (:indicator :papa :type :option\n",
    "     :label \"papa (option select)\" :options (\"fu\" \"bar\" \"wibble\" \"gronk\" \"kilroy\"))\n",
    "    (:indicator :quebec :type :option :style :dropdown\n",
    "     :label \"quebec (option dropdown)\" :options (\"fu\" \"bar\" \"wibble\" \"gronk\" \"kilroy\"))\n",
    "    (:indicator :romeo :type :option :style :radio\n",
    "     :label \"romeo (option radio)\" :options (\"fu\" \"bar\" \"wibble\" \"gronk\" \"kilroy\"))\n",
    "    (:indicator :sierra :type :option :style :slider\n",
    "     :label \"sierra (option slider)\" :options (\"fu\" \"bar\" \"wibble\" \"gronk\" \"kilroy\"))\n",
    "    (:indicator :tango :type :option :style :toggle\n",
    "     :label \"tango (option toggle)\" :options (\"fu\" \"bar\" \"wibble\" \"gronk\" \"kilroy\"))\n",
    "    (:indicator :uniform :type :option-range\n",
    "     :label \"uniform (option-range)\" :options (\"fu\" \"bar\" \"wibble\" \"gronk\" \"kilroy\"))\n",
    "    (:indicator :victor :type :option-multiple\n",
    "     :label \"victor (option-multiple)\" :options (\"fu\" \"bar\" \"wibble\" \"gronk\" \"kilroy\"))\n",
    "    (:indicator :whiskey :type :string\n",
    "     :label \"whiskey (string text)\")\n",
    "    (:indicator :xray :type :string :style :area\n",
    "     :label \"xray (string area)\")\n",
    "    (:indicator :yankee :type :string :style :combo\n",
    "     :label \"yankee (string combo)\" :options (\"fu\" \"bar\" \"wibble\" \"gronk\" \"kilroy\")))\n",
    "  plist)"
   ]
  },
  {
   "cell_type": "code",
   "execution_count": 3,
   "metadata": {},
   "outputs": [
    {
     "data": {
      "text/plain": [
       "(:LIMA 7 :YANKEE \"bar\")"
      ]
     },
     "execution_count": 3,
     "metadata": {},
     "output_type": "execute_result"
    }
   ],
   "source": [
    "plist"
   ]
  },
  {
   "cell_type": "code",
   "execution_count": 8,
   "metadata": {},
   "outputs": [
    {
     "data": {
      "text/plain": [
       "ALIST"
      ]
     },
     "execution_count": 8,
     "metadata": {},
     "output_type": "execute_result"
    }
   ],
   "source": [
    "(defparameter alist (list (cons \"golf\" 3.2d0)))"
   ]
  },
  {
   "cell_type": "code",
   "execution_count": 9,
   "metadata": {},
   "outputs": [
    {
     "data": {
      "application/vnd.jupyter.widget-view+json": {
       "model_id": "b725c64dddbd47246bcc059effc980cb",
       "version_major": 2,
       "version_minor": 0
      },
      "text/plain": [
       "A Jupyter Widget"
      ]
     },
     "metadata": {},
     "output_type": "display_data"
    }
   ],
   "source": [
    "(jupyter-widgets:make-interactive-alist\n",
    "  '((:indicator \"alfa\" :type :bool\n",
    "     :label \"alfa (bool check)\")\n",
    "    (:indicator \"bravo\" :type :bool :style :toggle\n",
    "     :label \"bravo (bool toggle)\" :description \"toggle\")\n",
    "    (:indicator \"charlie\" :type :color :default \"blue\"\n",
    "     :label \"charlie (color)\")\n",
    "    (:indicator \"delta\" :type :date\n",
    "     :label \"delta (date)\")\n",
    "    (:indicator \"echo\" :type :file\n",
    "     :label \"echo (file)\" :accept \".txt\")\n",
    "    (:indicator \"foxtrot\" :type :file-multiple\n",
    "     :label \"foxtrot (file-multiple)\")\n",
    "    (:indicator \"golf\" :type :float\n",
    "     :label \"golf (float text)\")\n",
    "    (:indicator \"hotel\" :type :float :style :log-slider\n",
    "     :label \"hotel (float log-slider)\")\n",
    "    (:indicator \"india\" :type :float :style :slider\n",
    "     :label \"india (float slider)\")\n",
    "    (:indicator \"juliett\" :type :float :style :bounded-text\n",
    "     :label \"juliett (float bounded-text)\")\n",
    "    (:indicator \"kilo\" :type :float-range\n",
    "     :label \"kilo (float-range)\")\n",
    "    (:indicator \"lima\" :type :int :default 3\n",
    "     :label \"lima (int text)\")\n",
    "    (:indicator \"mike\" :type :int :style :slider\n",
    "     :label \"mike (int slider)\")\n",
    "    (:indicator \"november\" :type :int :style :bounded-text :min -10 :max 10\n",
    "     :label \"november (int bounded-text)\")\n",
    "    (:indicator \"oscar\" :type :int-range\n",
    "     :label \"oscar (int-range)\")\n",
    "    (:indicator \"papa\" :type :option\n",
    "     :label \"papa (option select)\" :options (\"fu\" \"bar\" \"wibble\" \"gronk\" \"kilroy\"))\n",
    "    (:indicator \"quebec\" :type :option :style :dropdown\n",
    "     :label \"quebec (option dropdown)\" :options (\"fu\" \"bar\" \"wibble\" \"gronk\" \"kilroy\"))\n",
    "    (:indicator \"romeo\" :type :option :style :radio\n",
    "     :label \"romeo (option radio)\" :options (\"fu\" \"bar\" \"wibble\" \"gronk\" \"kilroy\"))\n",
    "    (:indicator \"sierra\" :type :option :style :slider\n",
    "     :label \"sierra (option slider)\" :options (\"fu\" \"bar\" \"wibble\" \"gronk\" \"kilroy\"))\n",
    "    (:indicator \"tango\" :type :option :style :toggle\n",
    "     :label \"tango (option toggle)\" :options (\"fu\" \"bar\" \"wibble\" \"gronk\" \"kilroy\"))\n",
    "    (:indicator \"uniform\" :type :option-range\n",
    "     :label \"uniform (option-range)\" :options (\"fu\" \"bar\" \"wibble\" \"gronk\" \"kilroy\"))\n",
    "    (:indicator \"victor\" :type :option-multiple\n",
    "     :label \"victor (option-multiple)\" :options (\"fu\" \"bar\" \"wibble\" \"gronk\" \"kilroy\"))\n",
    "    (:indicator \"whiskey\" :type :string\n",
    "     :label \"whiskey (string text)\")\n",
    "    (:indicator \"xray\" :type :string :style :area\n",
    "     :label \"xray (string area)\")\n",
    "    (:indicator \"yankee\" :type :string :style :combo\n",
    "     :label \"yankee (string combo)\" :options (\"fu\" \"bar\" \"wibble\" \"gronk\" \"kilroy\")))\n",
    "  alist :test #'string=)"
   ]
  },
  {
   "cell_type": "code",
   "execution_count": 10,
   "metadata": {},
   "outputs": [
    {
     "data": {
      "text/plain": [
       "((\"golf\" . 4.0d0))"
      ]
     },
     "execution_count": 10,
     "metadata": {},
     "output_type": "execute_result"
    }
   ],
   "source": [
    "alist"
   ]
  },
  {
   "cell_type": "code",
   "execution_count": null,
   "metadata": {},
   "outputs": [],
   "source": []
  }
 ],
 "metadata": {
  "kernelspec": {
   "display_name": "Common Lisp (SBCL)",
   "language": "common-lisp",
   "name": "common-lisp_sbcl"
  },
  "language_info": {
   "codemirror_mode": "text/x-common-lisp",
   "file_extension": ".lisp",
   "mimetype": "text/x-common-lisp",
   "name": "common-lisp",
   "pygments_lexer": "common-lisp",
   "version": "2.0.8"
  }
 },
 "nbformat": 4,
 "nbformat_minor": 4
}
