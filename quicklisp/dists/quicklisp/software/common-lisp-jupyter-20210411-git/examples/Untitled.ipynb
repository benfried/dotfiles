{
 "cells": [
  {
   "cell_type": "code",
   "execution_count": 1,
   "metadata": {},
   "outputs": [
    {
     "data": {
      "text/plain": [
       "A"
      ]
     },
     "execution_count": 1,
     "metadata": {},
     "output_type": "execute_result"
    }
   ],
   "source": [
    "(defparameter a (list :fu 3 :baz \"Some text\"))"
   ]
  },
  {
   "cell_type": "code",
   "execution_count": 2,
   "metadata": {},
   "outputs": [
    {
     "data": {
      "application/vnd.jupyter.widget-view+json": {
       "model_id": "c7982d95d07343bd3d43e3e8635c9da2",
       "version_major": 2,
       "version_minor": 0
      },
      "text/plain": [
       "A Jupyter Widget"
      ]
     },
     "metadata": {},
     "output_type": "display_data"
    }
   ],
   "source": [
    "(jupyter-widgets::make-interactive-widgets a \n",
    "                                           '((:indicator :fu :type :int :label \"fu (int)\")\n",
    "                                             (:indicator :bar :type :int :label \"bar (bounded int)\" :style :bounded-text)\n",
    "                                             (:indicator :quux :type :int :label \"quux (slider int)\" :style :slider :min -10 :max 10)\n",
    "                                             (:indicator :wibble :type :float :label \"wibble (float)\")\n",
    "                                             (:indicator :baz :type :string :label \"baz (string)\")\n",
    "                                             (:indicator :gronk :type :bool :label \"gronk (bool checkbox)\")\n",
    "                                             (:indicator :angle :type :bool :label \"angle (bool toggle)\" :description \"angle\" :style :toggle)))"
   ]
  },
  {
   "cell_type": "code",
   "execution_count": 3,
   "metadata": {},
   "outputs": [
    {
     "data": {
      "text/plain": [
       "(:BAR 7 :QUUX -6 :WIBBLE 0.8d0 :GRONK T :ANGLE T :FU -3 :BAZ\n",
       " \"Some text kjhkjhkj\")"
      ]
     },
     "execution_count": 3,
     "metadata": {},
     "output_type": "execute_result"
    }
   ],
   "source": [
    "a"
   ]
  },
  {
   "cell_type": "code",
   "execution_count": null,
   "metadata": {},
   "outputs": [],
   "source": []
  },
  {
   "cell_type": "code",
   "execution_count": null,
   "metadata": {},
   "outputs": [],
   "source": []
  }
 ],
 "metadata": {
  "kernelspec": {
   "display_name": "Common Lisp (SBCL)",
   "language": "common-lisp",
   "name": "common-lisp_sbcl"
  },
  "language_info": {
   "codemirror_mode": "text/x-common-lisp",
   "file_extension": ".lisp",
   "mimetype": "text/x-common-lisp",
   "name": "common-lisp",
   "pygments_lexer": "common-lisp",
   "version": "2.0.8"
  }
 },
 "nbformat": 4,
 "nbformat_minor": 4
}
