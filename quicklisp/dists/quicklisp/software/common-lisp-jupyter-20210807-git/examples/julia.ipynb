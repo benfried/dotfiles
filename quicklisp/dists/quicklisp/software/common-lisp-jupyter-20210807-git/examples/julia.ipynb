{
 "cells": [
  {
   "cell_type": "code",
   "execution_count": 1,
   "metadata": {},
   "outputs": [
    {
     "name": "stdout",
     "output_type": "stream",
     "text": [
      "To load \"alexandria\":\n",
      "  Load 1 ASDF system:\n",
      "    alexandria\n",
      "\n",
      "; Loading \"alexandria\"\n",
      "\n",
      "To load \"png\":\n",
      "  Load 3 ASDF systems:\n",
      "    asdf cffi cffi-grovel\n",
      "  Install 1 Quicklisp release:\n",
      "    cl-png\n",
      "\n",
      "; Fetching #<URL \"http://beta.quicklisp.org/archive/cl-png/2020-09-25/cl-png-vl-anyversion-11b965fe-git.tgz\">\n",
      "; 8311.11KB\n",
      "\n",
      "==================================================\n",
      "8,510,578 bytes in 0.56 seconds (14929.84KB/sec)\n",
      "\n",
      "; Loading \"png\"\n",
      "[package image]...................................\n",
      "[package png]; cc -o /home/yitzi/.cache/common-lisp/sbcl-2.1.1-linux-x64/home/yitzi/quicklisp/dists/quicklisp/software/cl-png-vl-anyversion-11b965fe-git/grovel__grovel-tmpXGI96G7.o -c -march=x86-64 -mtune=generic -O2 -pipe -fno-plt -D_GNU_SOURCE -fno-omit-frame-pointer -DSBCL_HOME=/usr/lib/sbcl -g -Wall -Wundef -Wsign-compare -Wpointer-arith -O3 -D_LARGEFILE_SOURCE -D_LARGEFILE64_SOURCE -D_FILE_OFFSET_BITS=64 -Wunused-parameter -fno-omit-frame-pointer -momit-leaf-frame-pointer -I/Applications/Xcode.app/Contents/Developer/Platforms/MacOSX.platform/Developer/SDKs/MacOSX10.7.sdk/usr/X11/include -I/opt/local/include -fPIC -I/home/yitzi/quicklisp/dists/quicklisp/software/cffi_0.24.1/ /home/yitzi/.cache/common-lisp/sbcl-2.1.1-linux-x64/home/yitzi/quicklisp/dists/quicklisp/software/cl-png-vl-anyversion-11b965fe-git/grovel__grovel.c\n",
      "; cc -o /home/yitzi/.cache/common-lisp/sbcl-2.1.1-linux-x64/home/yitzi/quicklisp/dists/quicklisp/software/cl-png-vl-anyversion-11b965fe-git/grovel__grovel-tmpF0KDNX6B -Wl,-O1,--sort-common,--as-needed,-z,relro,-z,now -g -Wl,--export-dynamic /home/yitzi/.cache/common-lisp/sbcl-2.1.1-linux-x64/home/yitzi/quicklisp/dists/quicklisp/software/cl-png-vl-anyversion-11b965fe-git/grovel__grovel.o\n",
      "; /home/yitzi/.cache/common-lisp/sbcl-2.1.1-linux-x64/home/yitzi/quicklisp/dists/quicklisp/software/cl-png-vl-anyversion-11b965fe-git/grovel__grovel /home/yitzi/.cache/common-lisp/sbcl-2.1.1-linux-x64/home/yitzi/quicklisp/dists/quicklisp/software/cl-png-vl-anyversion-11b965fe-git/grovel__grovel.grovel-tmp.lisp\n",
      ".; cc -o /home/yitzi/.cache/common-lisp/sbcl-2.1.1-linux-x64/home/yitzi/quicklisp/dists/quicklisp/software/cl-png-vl-anyversion-11b965fe-git/wrappers__wrapper-tmpWKYU2CYG.o -c -march=x86-64 -mtune=generic -O2 -pipe -fno-plt -D_GNU_SOURCE -fno-omit-frame-pointer -DSBCL_HOME=/usr/lib/sbcl -g -Wall -Wundef -Wsign-compare -Wpointer-arith -O3 -D_LARGEFILE_SOURCE -D_LARGEFILE64_SOURCE -D_FILE_OFFSET_BITS=64 -Wunused-parameter -fno-omit-frame-pointer -momit-leaf-frame-pointer -I/Applications/Xcode.app/Contents/Developer/Platforms/MacOSX.platform/Developer/SDKs/MacOSX10.7.sdk/usr/X11/include -I/opt/local/include -fPIC -I/home/yitzi/quicklisp/dists/quicklisp/software/cffi_0.24.1/ /home/yitzi/.cache/common-lisp/sbcl-2.1.1-linux-x64/home/yitzi/quicklisp/dists/quicklisp/software/cl-png-vl-anyversion-11b965fe-git/wrappers__wrapper.c\n",
      "; cc -o /home/yitzi/.cache/common-lisp/sbcl-2.1.1-linux-x64/home/yitzi/quicklisp/dists/quicklisp/software/cl-png-vl-anyversion-11b965fe-git/wrappers.so -shared -march=x86-64 -mtune=generic -O2 -pipe -fno-plt -D_GNU_SOURCE -fno-omit-frame-pointer -DSBCL_HOME=/usr/lib/sbcl -g -Wall -Wundef -Wsign-compare -Wpointer-arith -O3 -D_LARGEFILE_SOURCE -D_LARGEFILE64_SOURCE -D_FILE_OFFSET_BITS=64 -Wunused-parameter -fno-omit-frame-pointer -momit-leaf-frame-pointer /home/yitzi/.cache/common-lisp/sbcl-2.1.1-linux-x64/home/yitzi/quicklisp/dists/quicklisp/software/cl-png-vl-anyversion-11b965fe-git/wrappers__wrapper.o\n",
      "....................................\n",
      "[package bmp].....................................\n",
      "[package pnm]......\n",
      "To load \"iterate\":\n",
      "  Load 1 ASDF system:\n",
      "    asdf\n",
      "  Install 1 Quicklisp release:\n",
      "    iterate\n",
      "\n",
      "; Fetching #<URL \"http://beta.quicklisp.org/archive/iterate/2021-02-28/iterate-20210228-git.tgz\">\n",
      "; 325.03KB\n",
      "\n",
      "==================================================\n",
      "332,831 bytes in 0.07 seconds (4432.13KB/sec)\n",
      "\n",
      "; Loading \"iterate\"\n",
      "[package iterate]..........................\n",
      "To load \"flexi-streams\":\n",
      "  Load 2 ASDF systems:\n",
      "    asdf trivial-gray-streams\n",
      "  Install 1 Quicklisp release:\n",
      "    flexi-streams\n",
      "\n",
      "; Fetching #<URL \"http://beta.quicklisp.org/archive/flexi-streams/2020-09-25/flexi-streams-20200925-git.tgz\">\n",
      "; 431.82KB\n",
      "\n",
      "==================================================\n",
      "442,184 bytes in 0.09 seconds (4982.41KB/sec)\n",
      "\n",
      "; Loading \"flexi-streams\"\n",
      "[package flexi-streams]...........................\n",
      "..................................................\n",
      "..................................................\n",
      "................................\n",
      "To load \"lparallel\":\n",
      "  Load 1 ASDF system:\n",
      "    lparallel\n",
      "\n",
      "; Loading \"lparallel\"\n",
      "[package lparallel.util]..........................\n",
      "[package lparallel.thread-util]...................\n",
      "[package lparallel.raw-queue].....................\n",
      "[package lparallel.cons-queue]....................\n",
      "[package lparallel.vector-queue]..................\n",
      "[package lparallel.queue].........................\n",
      "[package lparallel.counter].......................\n",
      "[package lparallel.spin-queue]....................\n",
      "[package lparallel.kernel]........................\n",
      "[package lparallel.kernel-util]...................\n",
      "[package lparallel.promise].......................\n",
      "[package lparallel.ptree].........................\n",
      "[package lparallel.slet]..........................\n",
      "[package lparallel.defpun]........................\n",
      "[package lparallel.cognate].......................\n",
      "[package lparallel]\n",
      "To load \"cl-cpus\":\n",
      "  Load 2 ASDF systems:\n",
      "    asdf cffi\n",
      "  Install 1 Quicklisp release:\n",
      "    cl-cpus\n",
      "\n",
      "; Fetching #<URL \"http://beta.quicklisp.org/archive/cl-cpus/2018-04-30/cl-cpus-20180430-git.tgz\">\n",
      "; 2.45KB\n",
      "\n",
      "==================================================\n",
      "2,505 bytes in 0.00 seconds (0.00KB/sec)\n",
      "\n",
      "; Loading \"cl-cpus\"\n",
      "[package cl-cpus]"
     ]
    },
    {
     "data": {
      "text/plain": [
       "(:ALEXANDRIA :PNG :ITERATE :FLEXI-STREAMS :LPARALLEL :CL-CPUS)"
      ]
     },
     "execution_count": 1,
     "metadata": {},
     "output_type": "execute_result"
    },
    {
     "name": "stdout",
     "output_type": "stream",
     "text": [
      "\n"
     ]
    }
   ],
   "source": [
    "(ql:quickload '(:alexandria :png :iterate :flexi-streams :lparallel :cl-cpus))"
   ]
  },
  {
   "cell_type": "code",
   "execution_count": 2,
   "metadata": {},
   "outputs": [
    {
     "data": {
      "text/plain": [
       "#<LPARALLEL.KERNEL:KERNEL :NAME \"lparallel\" :WORKER-COUNT 4 :USE-CALLER NIL :ALIVE T :SPIN-COUNT 2000 {100420FDE3}>"
      ]
     },
     "execution_count": 2,
     "metadata": {},
     "output_type": "execute_result"
    }
   ],
   "source": [
    "(setf lparallel:*kernel* (lparallel:make-kernel (cpus:get-number-of-processors)))"
   ]
  },
  {
   "cell_type": "code",
   "execution_count": 3,
   "metadata": {},
   "outputs": [
    {
     "data": {
      "text/plain": [
       "JULIA-COUNT"
      ]
     },
     "execution_count": 3,
     "metadata": {},
     "output_type": "execute_result"
    }
   ],
   "source": [
    "(defun julia-count (z c &key (max 255))\n",
    "  (do ((i 0 (1+ i))\n",
    "       (p z (+ (expt p 2) c)))\n",
    "      ((or (= i max)\n",
    "           (> (abs p) 2))\n",
    "        i)))"
   ]
  },
  {
   "cell_type": "code",
   "execution_count": 4,
   "metadata": {},
   "outputs": [
    {
     "data": {
      "text/plain": [
       "#<JUPYTER-WIDGETS:TRAIT-METACLASS COMMON-LISP-USER::JULIA-WIDGET>"
      ]
     },
     "execution_count": 4,
     "metadata": {},
     "output_type": "execute_result"
    },
    {
     "data": {
      "text/plain": [
       "CALCULATE-ROW"
      ]
     },
     "execution_count": 4,
     "metadata": {},
     "output_type": "execute_result"
    },
    {
     "data": {
      "text/plain": [
       "UPDATE"
      ]
     },
     "execution_count": 4,
     "metadata": {},
     "output_type": "execute_result"
    },
    {
     "data": {
      "text/plain": [
       "#<STANDARD-METHOD COMMON-LISP:INITIALIZE-INSTANCE :AFTER (JULIA-WIDGET) {100490DE93}>"
      ]
     },
     "execution_count": 4,
     "metadata": {},
     "output_type": "execute_result"
    }
   ],
   "source": [
    "(defclass julia-widget (jupyter-widgets:grid-box)\n",
    "  ((image\n",
    "     :reader julia-image\n",
    "     :initform (make-instance 'jupyter-widgets:image\n",
    "                              :width 640 :height 640\n",
    "                              :layout (make-instance 'jupyter-widgets:layout :grid-area \"image\")))\n",
    "   (frame\n",
    "     :reader julia-frame\n",
    "     :initform (png:make-image 640 640 1 8))\n",
    "   (x\n",
    "     :reader julia-x\n",
    "     :initform (make-instance 'jupyter-widgets:float-text\n",
    "                              :value 0 :description \"x\"\n",
    "                              :layout (make-instance 'jupyter-widgets:layout :grid-area \"x\")))\n",
    "   (y\n",
    "     :reader julia-y\n",
    "     :initform (make-instance 'jupyter-widgets:float-text\n",
    "                              :value 0 :description \"y\"\n",
    "                              :layout (make-instance 'jupyter-widgets:layout :grid-area \"y\")))\n",
    "   (size\n",
    "     :reader julia-size\n",
    "     :initform (make-instance 'jupyter-widgets:float-text\n",
    "                              :value 4 :description \"size\"\n",
    "                              :layout (make-instance 'jupyter-widgets:layout :grid-area \"size\")))\n",
    "   (ca\n",
    "     :reader julia-ca\n",
    "     :initform (make-instance 'jupyter-widgets:float-text\n",
    "                              :value -0.8 :step 0.001 :description \"ca\"\n",
    "                              :layout (make-instance 'jupyter-widgets:layout :grid-area \"ca\")))\n",
    "   (cb\n",
    "     :reader julia-cb\n",
    "     :initform (make-instance 'jupyter-widgets:float-text\n",
    "                              :value 0.156 :step 0.001 :description \"cb\"\n",
    "                              :layout (make-instance 'jupyter-widgets:layout :grid-area \"cb\")))\n",
    "   (progress\n",
    "     :reader julia-progress\n",
    "     :initform (make-instance 'jupyter-widgets:int-progress\n",
    "                              :description \"Progress\"\n",
    "                              :max 640\n",
    "                              :layout (make-instance 'jupyter-widgets:layout :grid-area \"progress\")))\n",
    "   (task-channel\n",
    "     :reader julia-task-channel\n",
    "     :initform (lparallel:make-channel)))\n",
    "  (:metaclass jupyter-widgets:trait-metaclass)\n",
    "  (:default-initargs\n",
    "    :layout (make-instance 'jupyter-widgets:layout\n",
    "                           :grid-gap \".25em\"\n",
    "                           :grid-template-columns \"1fr min-content\"\n",
    "                           :grid-template-rows \"min-content min-content min-content min-content min-content min-content 1fr\"\n",
    "                           :grid-template-areas \"\\\"image x\\\" \\\"image y\\\" \\\"image size\\\" \\\"image ca\\\" \\\"image cb\\\" \\\"image progress\\\" \\\"image .\\\"\")))\n",
    "\n",
    "\n",
    "(defun calculate-row (frame y c width height xmin xmax ymin ymax)\n",
    "  (let ((zy (+ ymin (* (coerce (/ y height) 'float) (- ymax ymin)))))\n",
    "    (dotimes (x width)\n",
    "      (setf (aref frame y x 0)\n",
    "            (- 255 (julia-count (complex (+ xmin (* (coerce (/ x width) 'float) (- xmax xmin))) zy) c))))))\n",
    "\n",
    "\n",
    "(defun update (instance)\n",
    "  (bordeaux-threads:make-thread\n",
    "    (lambda ()\n",
    "      (with-slots (task-channel image frame x y size ca cb progress) instance\n",
    "        (let* ((c (complex (jupyter-widgets:widget-value ca)\n",
    "                           (jupyter-widgets:widget-value cb)))\n",
    "               (x-value (jupyter-widgets:widget-value x))\n",
    "               (y-value (jupyter-widgets:widget-value y))\n",
    "               (size-value (jupyter-widgets:widget-value size))\n",
    "               (width (jupyter-widgets:widget-width image))\n",
    "               (height (jupyter-widgets:widget-height image))\n",
    "               (xmin (- x-value (/ size-value 2)))\n",
    "               (xmax (+ x-value (/ size-value 2)))\n",
    "               (ymin (- y-value (/ size-value 2)))\n",
    "               (ymax (+ y-value (/ size-value 2))))\n",
    "          (dotimes (y height)\n",
    "            (lparallel:submit-task task-channel #'calculate-row frame y c width height xmin xmax ymin ymax))\n",
    "          (dotimes (y height)\n",
    "            (lparallel:receive-result task-channel)\n",
    "            (setf (jupyter-widgets:widget-value progress) y))\n",
    "          (setf (jupyter-widgets:widget-value image)\n",
    "                (flexi-streams:with-output-to-sequence (o)\n",
    "                                                       (png:encode frame o))))))))\n",
    "\n",
    "\n",
    "\n",
    "(defmethod initialize-instance :after ((instance julia-widget) &rest initargs &key &allow-other-keys)\n",
    "  (declare (ignore initargs))\n",
    "  (jupyter-widgets:observe (julia-x instance) :value\n",
    "                           (lambda (inst type name old-value new-value source)\n",
    "                             (declare (ignore inst type name old-value new-value source))\n",
    "                             (update instance)))\n",
    "  (jupyter-widgets:observe (julia-y instance) :value\n",
    "                           (lambda (inst type name old-value new-value source)\n",
    "                             (declare (ignore inst type name old-value new-value source))\n",
    "                             (update instance)))\n",
    "  (jupyter-widgets:observe (julia-size instance) :value\n",
    "                           (lambda (inst type name old-value new-value source)\n",
    "                             (declare (ignore inst type name old-value new-value source))\n",
    "                             (update instance)))\n",
    "  (jupyter-widgets:observe (julia-ca instance) :value\n",
    "                           (lambda (inst type name old-value new-value source)\n",
    "                             (declare (ignore inst type name old-value new-value source))\n",
    "                             (update instance)))\n",
    "  (jupyter-widgets:observe (julia-cb instance) :value\n",
    "                           (lambda (inst type name old-value new-value source)\n",
    "                             (declare (ignore inst type name old-value new-value source))\n",
    "                             (update instance)))\n",
    "  (setf (jupyter-widgets:widget-children instance)\n",
    "        (list (julia-image instance)\n",
    "              (julia-x instance)\n",
    "              (julia-y instance)\n",
    "              (julia-size instance)\n",
    "              (julia-ca instance)\n",
    "              (julia-cb instance)\n",
    "              (julia-progress instance)))\n",
    "  (update instance))"
   ]
  },
  {
   "cell_type": "code",
   "execution_count": 5,
   "metadata": {},
   "outputs": [
    {
     "data": {
      "application/vnd.jupyter.widget-view+json": {
       "model_id": "787f2a22e3b84d932d4d2c09c7ffd8cc",
       "version_major": 2,
       "version_minor": 0
      },
      "text/plain": [
       "A Jupyter Widget"
      ]
     },
     "execution_count": 5,
     "metadata": {},
     "output_type": "execute_result"
    }
   ],
   "source": [
    "(make-instance 'julia-widget)"
   ]
  },
  {
   "cell_type": "code",
   "execution_count": null,
   "metadata": {},
   "outputs": [],
   "source": []
  }
 ],
 "metadata": {
  "kernelspec": {
   "display_name": "Common Lisp (SBCL)",
   "language": "common-lisp",
   "name": "common-lisp_sbcl"
  },
  "language_info": {
   "codemirror_mode": "text/x-common-lisp",
   "file_extension": ".lisp",
   "mimetype": "text/x-common-lisp",
   "name": "common-lisp",
   "pygments_lexer": "common-lisp",
   "version": "2.1.1"
  },
  "widgets": {
   "application/vnd.jupyter.widget-state+json": {
    "state": {
     "04cd0a76002744c5b932a34da5c469a7": {
      "model_module": "@jupyter-widgets/base",
      "model_module_version": "1.2.0",
      "model_name": "LayoutModel",
      "state": {
       "grid_area": "cb"
      }
     },
     "2545bc097fd846ebf4af643981ac685d": {
      "model_module": "@jupyter-widgets/controls",
      "model_module_version": "1.5.0",
      "model_name": "FloatTextModel",
      "state": {
       "continuous_update": true,
       "description": "y",
       "layout": "IPY_MODEL_536dd711345942a142cf3dbb775ec05e",
       "step": 0.1,
       "style": "IPY_MODEL_fd83cb20508342a68b0c71c8458d506c"
      }
     },
     "39d7a6ba112d4a0831f52fc500fecff9": {
      "model_module": "@jupyter-widgets/controls",
      "model_module_version": "1.5.0",
      "model_name": "FloatTextModel",
      "state": {
       "continuous_update": true,
       "description": "x",
       "layout": "IPY_MODEL_b441b778994647a0d8c271cdb0e18e57",
       "step": 0.1,
       "style": "IPY_MODEL_c590dd0f2c3c482e10db1fdb626e31ac"
      }
     },
     "42866ce4db634cb5d528c7a10d43bfff": {
      "buffers": [
       {
        "data": "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",
        "encoding": "base64",
        "path": [
         "value"
        ]
       }
      ],
      "model_module": "@jupyter-widgets/controls",
      "model_module_version": "1.5.0",
      "model_name": "ImageModel",
      "state": {
       "height": 640,
       "layout": "IPY_MODEL_42b9bb20387d4e7452bc420b3313b71e",
       "value": {},
       "width": 640
      }
     },
     "42b9bb20387d4e7452bc420b3313b71e": {
      "model_module": "@jupyter-widgets/base",
      "model_module_version": "1.2.0",
      "model_name": "LayoutModel",
      "state": {
       "grid_area": "image"
      }
     },
     "462a803e1fda423b605f14ede558b42c": {
      "model_module": "@jupyter-widgets/controls",
      "model_module_version": "1.5.0",
      "model_name": "DescriptionStyleModel",
      "state": {}
     },
     "4ccbfc1d80a249fc6912499b5bb69869": {
      "model_module": "@jupyter-widgets/base",
      "model_module_version": "1.2.0",
      "model_name": "LayoutModel",
      "state": {
       "grid_area": "progress"
      }
     },
     "524e46a1887c4dfaa65a285dffc804e5": {
      "model_module": "@jupyter-widgets/base",
      "model_module_version": "1.2.0",
      "model_name": "LayoutModel",
      "state": {
       "grid_gap": ".25em",
       "grid_template_areas": "\"image x\" \"image y\" \"image size\" \"image ca\" \"image cb\" \"image progress\" \"image .\"",
       "grid_template_columns": "1fr min-content",
       "grid_template_rows": "min-content min-content min-content min-content min-content min-content 1fr"
      }
     },
     "536dd711345942a142cf3dbb775ec05e": {
      "model_module": "@jupyter-widgets/base",
      "model_module_version": "1.2.0",
      "model_name": "LayoutModel",
      "state": {
       "grid_area": "y"
      }
     },
     "5564413e083f45b43ca567263830c1cf": {
      "model_module": "@jupyter-widgets/controls",
      "model_module_version": "1.5.0",
      "model_name": "DescriptionStyleModel",
      "state": {}
     },
     "5837f036d7804b80f54f8dce0ffc3c39": {
      "model_module": "@jupyter-widgets/controls",
      "model_module_version": "1.5.0",
      "model_name": "FloatTextModel",
      "state": {
       "continuous_update": true,
       "description": "cb",
       "layout": "IPY_MODEL_04cd0a76002744c5b932a34da5c469a7",
       "step": 0.001,
       "style": "IPY_MODEL_f4e9fe8bbbd941843f3b6d894e88f3bc",
       "value": 0.156
      }
     },
     "7ca0ee5267214589e7c23599e3eefeb5": {
      "model_module": "@jupyter-widgets/controls",
      "model_module_version": "1.5.0",
      "model_name": "FloatTextModel",
      "state": {
       "continuous_update": true,
       "description": "ca",
       "layout": "IPY_MODEL_be8c571c0c714366bb368e366dbf8193",
       "step": 0.001,
       "style": "IPY_MODEL_5564413e083f45b43ca567263830c1cf",
       "value": -0.8
      }
     },
     "84e73b83846a443b32ac681fb63c382b": {
      "model_module": "@jupyter-widgets/controls",
      "model_module_version": "1.5.0",
      "model_name": "FloatTextModel",
      "state": {
       "continuous_update": true,
       "description": "size",
       "layout": "IPY_MODEL_d25881c7b18e402a773cce33a660cb89",
       "step": 0.1,
       "style": "IPY_MODEL_462a803e1fda423b605f14ede558b42c",
       "value": 4
      }
     },
     "8f9c875d666a4d31c015319cf71fbc42": {
      "model_module": "@jupyter-widgets/controls",
      "model_module_version": "1.5.0",
      "model_name": "ProgressStyleModel",
      "state": {}
     },
     "b441b778994647a0d8c271cdb0e18e57": {
      "model_module": "@jupyter-widgets/base",
      "model_module_version": "1.2.0",
      "model_name": "LayoutModel",
      "state": {
       "grid_area": "x"
      }
     },
     "be8c571c0c714366bb368e366dbf8193": {
      "model_module": "@jupyter-widgets/base",
      "model_module_version": "1.2.0",
      "model_name": "LayoutModel",
      "state": {
       "grid_area": "ca"
      }
     },
     "c590dd0f2c3c482e10db1fdb626e31ac": {
      "model_module": "@jupyter-widgets/controls",
      "model_module_version": "1.5.0",
      "model_name": "DescriptionStyleModel",
      "state": {}
     },
     "d25881c7b18e402a773cce33a660cb89": {
      "model_module": "@jupyter-widgets/base",
      "model_module_version": "1.2.0",
      "model_name": "LayoutModel",
      "state": {
       "grid_area": "size"
      }
     },
     "e40f5768e3b94df20537f0ee3200a39c": {
      "model_module": "@jupyter-widgets/controls",
      "model_module_version": "1.5.0",
      "model_name": "GridBoxModel",
      "state": {
       "children": [
        "IPY_MODEL_42866ce4db634cb5d528c7a10d43bfff",
        "IPY_MODEL_39d7a6ba112d4a0831f52fc500fecff9",
        "IPY_MODEL_2545bc097fd846ebf4af643981ac685d",
        "IPY_MODEL_84e73b83846a443b32ac681fb63c382b",
        "IPY_MODEL_7ca0ee5267214589e7c23599e3eefeb5",
        "IPY_MODEL_5837f036d7804b80f54f8dce0ffc3c39",
        "IPY_MODEL_f752d2c371df4e9f25400f76c4fab4b0"
       ],
       "layout": "IPY_MODEL_524e46a1887c4dfaa65a285dffc804e5"
      }
     },
     "f4e9fe8bbbd941843f3b6d894e88f3bc": {
      "model_module": "@jupyter-widgets/controls",
      "model_module_version": "1.5.0",
      "model_name": "DescriptionStyleModel",
      "state": {}
     },
     "f752d2c371df4e9f25400f76c4fab4b0": {
      "model_module": "@jupyter-widgets/controls",
      "model_module_version": "1.5.0",
      "model_name": "IntProgressModel",
      "state": {
       "bar_style": true,
       "description": "Progress",
       "layout": "IPY_MODEL_4ccbfc1d80a249fc6912499b5bb69869",
       "max": 640,
       "style": "IPY_MODEL_8f9c875d666a4d31c015319cf71fbc42",
       "value": 639
      }
     },
     "fd83cb20508342a68b0c71c8458d506c": {
      "model_module": "@jupyter-widgets/controls",
      "model_module_version": "1.5.0",
      "model_name": "DescriptionStyleModel",
      "state": {}
     }
    },
    "version_major": 2,
    "version_minor": 0
   }
  }
 },
 "nbformat": 4,
 "nbformat_minor": 4
}
