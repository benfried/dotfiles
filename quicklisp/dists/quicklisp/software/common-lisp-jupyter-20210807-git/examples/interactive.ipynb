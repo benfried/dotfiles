{
 "cells": [
  {
   "cell_type": "code",
   "execution_count": 1,
   "metadata": {},
   "outputs": [
    {
     "data": {
      "text/plain": [
       "PLIST"
      ]
     },
     "execution_count": 1,
     "metadata": {},
     "output_type": "execute_result"
    }
   ],
   "source": [
    "(defparameter plist (list :lima 7 :yankee \"bar\"))"
   ]
  },
  {
   "cell_type": "code",
   "execution_count": 2,
   "metadata": {},
   "outputs": [
    {
     "data": {
      "application/vnd.jupyter.widget-view+json": {
       "model_id": "6426c0c0508541b5497423446ad5b33a",
       "version_major": 2,
       "version_minor": 0
      },
      "text/plain": [
       "A Jupyter Widget"
      ]
     },
     "execution_count": 2,
     "metadata": {},
     "output_type": "execute_result"
    }
   ],
   "source": [
    "(jupyter-widgets:make-interactive-plist\n",
    "  '((:indicator :alfa :type :bool\n",
    "     :label \"alfa (bool check)\")\n",
    "    (:indicator :bravo :type :bool :style :toggle\n",
    "     :label \"bravo (bool toggle)\" :description \"toggle\")\n",
    "    (:indicator :charlie :type :color :default \"blue\"\n",
    "     :label \"charlie (color)\")\n",
    "    (:indicator :delta :type :date\n",
    "     :label \"delta (date)\")\n",
    "    (:indicator :echo :type :file\n",
    "     :label \"echo (file)\" :accept \".txt\")\n",
    "    (:indicator :foxtrot :type :file-multiple\n",
    "     :label \"foxtrot (file-multiple)\")\n",
    "    (:indicator :golf :type :float\n",
    "     :label \"golf (float text)\")\n",
    "    (:indicator :hotel :type :float :style :log-slider\n",
    "     :label \"hotel (float log-slider)\")\n",
    "    (:indicator :india :type :float :style :slider\n",
    "     :label \"india (float slider)\")\n",
    "    (:indicator :juliett :type :float :style :bounded-text\n",
    "     :label \"juliett (float bounded-text)\")\n",
    "    (:indicator :kilo :type :float-range\n",
    "     :label \"kilo (float-range)\")\n",
    "    (:indicator :lima :type :int :default 3\n",
    "     :label \"lima (int text)\")\n",
    "    (:indicator :mike :type :int :style :slider\n",
    "     :label \"mike (int slider)\")\n",
    "    (:indicator :november :type :int :style :bounded-text :min -10 :max 10\n",
    "     :label \"november (int bounded-text)\")\n",
    "    (:indicator :oscar :type :int-range\n",
    "     :label \"oscar (int-range)\")\n",
    "    (:indicator :papa :type :option\n",
    "     :label \"papa (option select)\" :options (\"fu\" \"bar\" \"wibble\" \"gronk\" \"kilroy\"))\n",
    "    (:indicator :quebec :type :option :style :dropdown\n",
    "     :label \"quebec (option dropdown)\" :options (\"fu\" \"bar\" \"wibble\" \"gronk\" \"kilroy\"))\n",
    "    (:indicator :romeo :type :option :style :radio\n",
    "     :label \"romeo (option radio)\" :options (\"fu\" \"bar\" \"wibble\" \"gronk\" \"kilroy\"))\n",
    "    (:indicator :sierra :type :option :style :slider\n",
    "     :label \"sierra (option slider)\" :options (\"fu\" \"bar\" \"wibble\" \"gronk\" \"kilroy\"))\n",
    "    (:indicator :tango :type :option :style :toggle\n",
    "     :label \"tango (option toggle)\" :options (\"fu\" \"bar\" \"wibble\" \"gronk\" \"kilroy\"))\n",
    "    (:indicator :uniform :type :option-range\n",
    "     :label \"uniform (option-range)\" :options (\"fu\" \"bar\" \"wibble\" \"gronk\" \"kilroy\"))\n",
    "    (:indicator :victor :type :option-multiple\n",
    "     :label \"victor (option-multiple)\" :options (\"fu\" \"bar\" \"wibble\" \"gronk\" \"kilroy\"))\n",
    "    (:indicator :whiskey :type :string\n",
    "     :label \"whiskey (string text)\")\n",
    "    (:indicator :xray :type :string :style :area\n",
    "     :label \"xray (string area)\")\n",
    "    (:indicator :yankee :type :string :style :combo\n",
    "     :label \"yankee (string combo)\" :options (\"fu\" \"bar\" \"wibble\" \"gronk\" \"kilroy\")))\n",
    "  plist)"
   ]
  },
  {
   "cell_type": "code",
   "execution_count": 3,
   "metadata": {},
   "outputs": [
    {
     "data": {
      "text/plain": [
       "(:PAPA \"gronk\" :ROMEO \"gronk\" :LIMA 7 :YANKEE \"bar\")"
      ]
     },
     "execution_count": 3,
     "metadata": {},
     "output_type": "execute_result"
    }
   ],
   "source": [
    "plist"
   ]
  },
  {
   "cell_type": "code",
   "execution_count": 4,
   "metadata": {},
   "outputs": [
    {
     "data": {
      "text/plain": [
       "ALIST"
      ]
     },
     "execution_count": 4,
     "metadata": {},
     "output_type": "execute_result"
    }
   ],
   "source": [
    "(defparameter alist (list (cons \"golf\" 3.2d0)))"
   ]
  },
  {
   "cell_type": "code",
   "execution_count": 5,
   "metadata": {},
   "outputs": [
    {
     "data": {
      "application/vnd.jupyter.widget-view+json": {
       "model_id": "1314719641e245a0a3136a83ae0b50a8",
       "version_major": 2,
       "version_minor": 0
      },
      "text/plain": [
       "A Jupyter Widget"
      ]
     },
     "execution_count": 5,
     "metadata": {},
     "output_type": "execute_result"
    }
   ],
   "source": [
    "(jupyter-widgets:make-interactive-alist\n",
    "  '((:indicator \"alfa\" :type :bool\n",
    "     :label \"alfa (bool check)\")\n",
    "    (:indicator \"bravo\" :type :bool :style :toggle\n",
    "     :label \"bravo (bool toggle)\" :description \"toggle\")\n",
    "    (:indicator \"charlie\" :type :color :default \"blue\"\n",
    "     :label \"charlie (color)\")\n",
    "    (:indicator \"delta\" :type :date\n",
    "     :label \"delta (date)\")\n",
    "    (:indicator \"echo\" :type :file\n",
    "     :label \"echo (file)\" :accept \".txt\")\n",
    "    (:indicator \"foxtrot\" :type :file-multiple\n",
    "     :label \"foxtrot (file-multiple)\")\n",
    "    (:indicator \"golf\" :type :float\n",
    "     :label \"golf (float text)\")\n",
    "    (:indicator \"hotel\" :type :float :style :log-slider\n",
    "     :label \"hotel (float log-slider)\")\n",
    "    (:indicator \"india\" :type :float :style :slider\n",
    "     :label \"india (float slider)\")\n",
    "    (:indicator \"juliett\" :type :float :style :bounded-text\n",
    "     :label \"juliett (float bounded-text)\")\n",
    "    (:indicator \"kilo\" :type :float-range\n",
    "     :label \"kilo (float-range)\")\n",
    "    (:indicator \"lima\" :type :int :default 3\n",
    "     :label \"lima (int text)\")\n",
    "    (:indicator \"mike\" :type :int :style :slider\n",
    "     :label \"mike (int slider)\")\n",
    "    (:indicator \"november\" :type :int :style :bounded-text :min -10 :max 10\n",
    "     :label \"november (int bounded-text)\")\n",
    "    (:indicator \"oscar\" :type :int-range\n",
    "     :label \"oscar (int-range)\")\n",
    "    (:indicator \"papa\" :type :option\n",
    "     :label \"papa (option select)\" :options (\"fu\" \"bar\" \"wibble\" \"gronk\" \"kilroy\"))\n",
    "    (:indicator \"quebec\" :type :option :style :dropdown\n",
    "     :label \"quebec (option dropdown)\" :options (\"fu\" \"bar\" \"wibble\" \"gronk\" \"kilroy\"))\n",
    "    (:indicator \"romeo\" :type :option :style :radio\n",
    "     :label \"romeo (option radio)\" :options (\"fu\" \"bar\" \"wibble\" \"gronk\" \"kilroy\"))\n",
    "    (:indicator \"sierra\" :type :option :style :slider\n",
    "     :label \"sierra (option slider)\" :options (\"fu\" \"bar\" \"wibble\" \"gronk\" \"kilroy\"))\n",
    "    (:indicator \"tango\" :type :option :style :toggle\n",
    "     :label \"tango (option toggle)\" :options (\"fu\" \"bar\" \"wibble\" \"gronk\" \"kilroy\"))\n",
    "    (:indicator \"uniform\" :type :option-range\n",
    "     :label \"uniform (option-range)\" :options (\"fu\" \"bar\" \"wibble\" \"gronk\" \"kilroy\"))\n",
    "    (:indicator \"victor\" :type :option-multiple\n",
    "     :label \"victor (option-multiple)\" :options (\"fu\" \"bar\" \"wibble\" \"gronk\" \"kilroy\"))\n",
    "    (:indicator \"whiskey\" :type :string\n",
    "     :label \"whiskey (string text)\")\n",
    "    (:indicator \"xray\" :type :string :style :area\n",
    "     :label \"xray (string area)\")\n",
    "    (:indicator \"yankee\" :type :string :style :combo\n",
    "     :label \"yankee (string combo)\" :options (\"fu\" \"bar\" \"wibble\" \"gronk\" \"kilroy\")))\n",
    "  alist :test #'string=)"
   ]
  },
  {
   "cell_type": "code",
   "execution_count": 6,
   "metadata": {},
   "outputs": [
    {
     "data": {
      "text/plain": [
       "((\"golf\" . 3.2d0))"
      ]
     },
     "execution_count": 6,
     "metadata": {},
     "output_type": "execute_result"
    }
   ],
   "source": [
    "alist"
   ]
  },
  {
   "cell_type": "code",
   "execution_count": null,
   "metadata": {},
   "outputs": [],
   "source": []
  }
 ],
 "metadata": {
  "kernelspec": {
   "display_name": "Common Lisp (SBCL)",
   "language": "common-lisp",
   "name": "common-lisp_sbcl"
  },
  "language_info": {
   "codemirror_mode": "text/x-common-lisp",
   "file_extension": ".lisp",
   "mimetype": "text/x-common-lisp",
   "name": "common-lisp",
   "pygments_lexer": "common-lisp",
   "version": "2.1.1"
  },
  "widgets": {
   "application/vnd.jupyter.widget-state+json": {
    "state": {
     "00977668bf93420004003fe11906e06f": {
      "model_module": "@jupyter-widgets/controls",
      "model_module_version": "1.5.0",
      "model_name": "DescriptionStyleModel",
      "state": {}
     },
     "0221c82f6e624ea8111597620c075e32": {
      "model_module": "@jupyter-widgets/controls",
      "model_module_version": "1.5.0",
      "model_name": "DescriptionStyleModel",
      "state": {}
     },
     "052616cc9c454e349e9c002259e50b0c": {
      "model_module": "@jupyter-widgets/controls",
      "model_module_version": "1.5.0",
      "model_name": "LabelModel",
      "state": {
       "layout": "IPY_MODEL_96a21a3bdd13414fbe8439f59ba0043a",
       "style": "IPY_MODEL_072a6c7565a64828a2f6255c4b585fe7",
       "value": "alfa (bool check)"
      }
     },
     "0617c2eea1654856758421dc8c7ed517": {
      "model_module": "@jupyter-widgets/base",
      "model_module_version": "1.2.0",
      "model_name": "LayoutModel",
      "state": {}
     },
     "06e3306818654be8eb242733f3ec555f": {
      "model_module": "@jupyter-widgets/controls",
      "model_module_version": "1.5.0",
      "model_name": "DescriptionStyleModel",
      "state": {}
     },
     "072a6c7565a64828a2f6255c4b585fe7": {
      "model_module": "@jupyter-widgets/controls",
      "model_module_version": "1.5.0",
      "model_name": "DescriptionStyleModel",
      "state": {}
     },
     "07f42886729040da46868b6bd74e5325": {
      "model_module": "@jupyter-widgets/controls",
      "model_module_version": "1.5.0",
      "model_name": "LabelModel",
      "state": {
       "layout": "IPY_MODEL_d30b71e520404542980ceb6f2d2cc11b",
       "style": "IPY_MODEL_1eae9cf2f29f49f93e82bfd6bb1ca831",
       "value": "whiskey (string text)"
      }
     },
     "0817b9a550e3407af54b01c4ae1dd9cb": {
      "model_module": "@jupyter-widgets/controls",
      "model_module_version": "1.5.0",
      "model_name": "DescriptionStyleModel",
      "state": {}
     },
     "081c78dfbfe14a496bbc4f755a6eff45": {
      "model_module": "@jupyter-widgets/controls",
      "model_module_version": "1.5.0",
      "model_name": "LabelModel",
      "state": {
       "layout": "IPY_MODEL_d51c03e4de224ff00e1b8233725dd0bf",
       "style": "IPY_MODEL_8b156f8ba63541da1873ae1af4154e82",
       "value": "uniform (option-range)"
      }
     },
     "0a8ddad5d27d46c7583d2a65027a8b19": {
      "model_module": "@jupyter-widgets/controls",
      "model_module_version": "1.5.0",
      "model_name": "LabelModel",
      "state": {
       "layout": "IPY_MODEL_e34730626eac4873c6444319833e9903",
       "style": "IPY_MODEL_c7f1572c197e456f640f9a5e4f7df87b",
       "value": "delta (date)"
      }
     },
     "0b42d2ef4ec24c343ba73c7f5826ed9f": {
      "model_module": "@jupyter-widgets/controls",
      "model_module_version": "1.5.0",
      "model_name": "LabelModel",
      "state": {
       "layout": "IPY_MODEL_2eac17b683ab42f8f893bd6eca601c40",
       "style": "IPY_MODEL_3229bae25aca4f5b9e7c8082f079d459",
       "value": "oscar (int-range)"
      }
     },
     "0ced4ad13057422f9705d8d6fff7e534": {
      "model_module": "@jupyter-widgets/controls",
      "model_module_version": "1.5.0",
      "model_name": "LabelModel",
      "state": {
       "layout": "IPY_MODEL_32a4c8ac2efa4ae2ff9c61c4949c9be9",
       "style": "IPY_MODEL_3841dd0ab8d5481eed21ab4ec2f6444a",
       "value": "bravo (bool toggle)"
      }
     },
     "0db486cebda044036e1b5feb2bc36b30": {
      "model_module": "@jupyter-widgets/controls",
      "model_module_version": "1.5.0",
      "model_name": "LabelModel",
      "state": {
       "layout": "IPY_MODEL_9c2699e0fc2448bd962c46aa70aa2544",
       "style": "IPY_MODEL_bcec013247284fe149845faf72fb3338",
       "value": "papa (option select)"
      }
     },
     "0dc5c4cffb144f3fc9c77e8cd5c0f3ae": {
      "model_module": "@jupyter-widgets/base",
      "model_module_version": "1.2.0",
      "model_name": "LayoutModel",
      "state": {}
     },
     "0dd312a5494245097354c91d27c5273b": {
      "model_module": "@jupyter-widgets/controls",
      "model_module_version": "1.5.0",
      "model_name": "LabelModel",
      "state": {
       "layout": "IPY_MODEL_f2ba8a81178948392b7f25f4e99574f6",
       "style": "IPY_MODEL_8c1dc6b8c48f4aa5264f66fca2dc7a85",
       "value": "kilo (float-range)"
      }
     },
     "10bf38c2e03e419392e90c7082f8a426": {
      "model_module": "@jupyter-widgets/base",
      "model_module_version": "1.2.0",
      "model_name": "LayoutModel",
      "state": {}
     },
     "1195615570c84b491312bc0e2fd9bd01": {
      "model_module": "@jupyter-widgets/controls",
      "model_module_version": "1.5.0",
      "model_name": "IntSliderModel",
      "state": {
       "layout": "IPY_MODEL_4a438cd074ba40998e40cea5c00cae5d",
       "style": "IPY_MODEL_807edc9bfc2645a7cab91d33a8efd250"
      }
     },
     "11fd76a7e9464e03cf43e7730f5e6822": {
      "model_module": "@jupyter-widgets/base",
      "model_module_version": "1.2.0",
      "model_name": "LayoutModel",
      "state": {}
     },
     "14f0259578d5449a3296d560f8e318f3": {
      "model_module": "@jupyter-widgets/controls",
      "model_module_version": "1.5.0",
      "model_name": "DescriptionStyleModel",
      "state": {}
     },
     "17ba57025dc34b5065c74616736c3c97": {
      "model_module": "@jupyter-widgets/controls",
      "model_module_version": "1.5.0",
      "model_name": "DescriptionStyleModel",
      "state": {}
     },
     "18ff0c12e6ee49ff4b5383cdc95c90c9": {
      "model_module": "@jupyter-widgets/base",
      "model_module_version": "1.2.0",
      "model_name": "LayoutModel",
      "state": {}
     },
     "1962c218ee8942587ef87777ff4903e8": {
      "model_module": "@jupyter-widgets/controls",
      "model_module_version": "1.5.0",
      "model_name": "DropdownModel",
      "state": {
       "_options_labels": [
        "fu",
        "bar",
        "wibble",
        "gronk",
        "kilroy"
       ],
       "index": null,
       "layout": "IPY_MODEL_35e7220244d14418f63a80e982acf013",
       "rows": 5,
       "style": "IPY_MODEL_f1198c6a2f3943fbe189a51c4efb6b3c"
      }
     },
     "19ee58faed824259232be126b1cc4b4f": {
      "model_module": "@jupyter-widgets/controls",
      "model_module_version": "1.5.0",
      "model_name": "DescriptionStyleModel",
      "state": {}
     },
     "1a1b11c8403643a519e3ab262d42d2e4": {
      "model_module": "@jupyter-widgets/controls",
      "model_module_version": "1.5.0",
      "model_name": "LabelModel",
      "state": {
       "layout": "IPY_MODEL_c493bac572214ca296fc2e4473ef8c89",
       "style": "IPY_MODEL_f66cfe58be544fce61c3738105e8028e",
       "value": "foxtrot (file-multiple)"
      }
     },
     "1db1f1611a834cadb05da179a044754c": {
      "model_module": "@jupyter-widgets/controls",
      "model_module_version": "1.5.0",
      "model_name": "DescriptionStyleModel",
      "state": {}
     },
     "1e34c3c41ac14dbc4a2bde03fb2bf07c": {
      "model_module": "@jupyter-widgets/controls",
      "model_module_version": "1.5.0",
      "model_name": "DescriptionStyleModel",
      "state": {}
     },
     "1e89d54da35342e0ffa34c2f97223754": {
      "model_module": "@jupyter-widgets/controls",
      "model_module_version": "1.5.0",
      "model_name": "DescriptionStyleModel",
      "state": {}
     },
     "1e974ffa5b44436e0adafd7489713d1b": {
      "model_module": "@jupyter-widgets/controls",
      "model_module_version": "1.5.0",
      "model_name": "LabelModel",
      "state": {
       "layout": "IPY_MODEL_257e2b59b6624dd3ac947343593cbb06",
       "style": "IPY_MODEL_4becacd8e0514de0a167ea0daa8fea84",
       "value": "uniform (option-range)"
      }
     },
     "1eae9cf2f29f49f93e82bfd6bb1ca831": {
      "model_module": "@jupyter-widgets/controls",
      "model_module_version": "1.5.0",
      "model_name": "DescriptionStyleModel",
      "state": {}
     },
     "1f162c8f627041b9459f599e027bc2f3": {
      "model_module": "@jupyter-widgets/controls",
      "model_module_version": "1.5.0",
      "model_name": "DescriptionStyleModel",
      "state": {}
     },
     "1f5d708d076b4608c8f92028c839c687": {
      "model_module": "@jupyter-widgets/controls",
      "model_module_version": "1.5.0",
      "model_name": "DescriptionStyleModel",
      "state": {}
     },
     "20274e8b8a1142138a7b5c2bc8b34798": {
      "model_module": "@jupyter-widgets/base",
      "model_module_version": "1.2.0",
      "model_name": "LayoutModel",
      "state": {}
     },
     "20af88182e554be6208f1914377bf212": {
      "model_module": "@jupyter-widgets/base",
      "model_module_version": "1.2.0",
      "model_name": "LayoutModel",
      "state": {}
     },
     "2177133413044244e86aaf5e2f81b181": {
      "model_module": "@jupyter-widgets/controls",
      "model_module_version": "1.5.0",
      "model_name": "LabelModel",
      "state": {
       "layout": "IPY_MODEL_10bf38c2e03e419392e90c7082f8a426",
       "style": "IPY_MODEL_06e3306818654be8eb242733f3ec555f",
       "value": "alfa (bool check)"
      }
     },
     "218cc7ebb1cb4650da7b273c85e1c79a": {
      "model_module": "@jupyter-widgets/base",
      "model_module_version": "1.2.0",
      "model_name": "LayoutModel",
      "state": {}
     },
     "21db5e3a6da042490cb5e3decedd3bdf": {
      "model_module": "@jupyter-widgets/base",
      "model_module_version": "1.2.0",
      "model_name": "LayoutModel",
      "state": {
       "grid_auto_rows": "min-content",
       "grid_gap": ".25em",
       "grid_template_columns": "min-content 1fr"
      }
     },
     "22f3dbc82d8a4bb6f6a526a345363d6b": {
      "model_module": "@jupyter-widgets/controls",
      "model_module_version": "1.5.0",
      "model_name": "SliderStyleModel",
      "state": {}
     },
     "23fb2f7d930e445422cddc7093569cc5": {
      "model_module": "@jupyter-widgets/base",
      "model_module_version": "1.2.0",
      "model_name": "LayoutModel",
      "state": {}
     },
     "24912e9220914de8c28e5a07cca719f9": {
      "model_module": "@jupyter-widgets/base",
      "model_module_version": "1.2.0",
      "model_name": "LayoutModel",
      "state": {}
     },
     "25428dcaf0594727ce4ad85111106930": {
      "model_module": "@jupyter-widgets/controls",
      "model_module_version": "1.5.0",
      "model_name": "DescriptionStyleModel",
      "state": {}
     },
     "257e2b59b6624dd3ac947343593cbb06": {
      "model_module": "@jupyter-widgets/base",
      "model_module_version": "1.2.0",
      "model_name": "LayoutModel",
      "state": {}
     },
     "25b88d24885e4f4500c3870c96f45ebb": {
      "model_module": "@jupyter-widgets/controls",
      "model_module_version": "1.5.0",
      "model_name": "DescriptionStyleModel",
      "state": {}
     },
     "28afe73fdb9344fc9335cd8ec0fcfc87": {
      "model_module": "@jupyter-widgets/controls",
      "model_module_version": "1.5.0",
      "model_name": "DescriptionStyleModel",
      "state": {}
     },
     "28b92db10305472d71acdb76a1226b97": {
      "model_module": "@jupyter-widgets/controls",
      "model_module_version": "1.5.0",
      "model_name": "DescriptionStyleModel",
      "state": {}
     },
     "28e30b19cea5461e42dd7b2c0a84c7c9": {
      "model_module": "@jupyter-widgets/controls",
      "model_module_version": "1.5.0",
      "model_name": "DatePickerModel",
      "state": {
       "disabled": false,
       "layout": "IPY_MODEL_ce84028d79c540172f43b2fbf2465e83",
       "style": "IPY_MODEL_999c06f09bbe4adb40ed6834065d26d5"
      }
     },
     "290f46d7adb440ade9b6df2421d4d5e2": {
      "model_module": "@jupyter-widgets/controls",
      "model_module_version": "1.5.0",
      "model_name": "LabelModel",
      "state": {
       "layout": "IPY_MODEL_d646c52e27134e5fbb627612d27b791f",
       "style": "IPY_MODEL_25428dcaf0594727ce4ad85111106930",
       "value": "golf (float text)"
      }
     },
     "293d51b8271546971a5c76e65771c5d5": {
      "model_module": "@jupyter-widgets/base",
      "model_module_version": "1.2.0",
      "model_name": "LayoutModel",
      "state": {}
     },
     "29af33089baa47522b3f09c0c041bad0": {
      "model_module": "@jupyter-widgets/base",
      "model_module_version": "1.2.0",
      "model_name": "LayoutModel",
      "state": {}
     },
     "2adb40aee9de4ce0413a7e3cef433a6f": {
      "model_module": "@jupyter-widgets/controls",
      "model_module_version": "1.5.0",
      "model_name": "DescriptionStyleModel",
      "state": {}
     },
     "2b7a99dff62e4c30e4ea35be8b29d3a8": {
      "model_module": "@jupyter-widgets/controls",
      "model_module_version": "1.5.0",
      "model_name": "SliderStyleModel",
      "state": {}
     },
     "2c26c523c2614d3d491dc88b84ac1718": {
      "model_module": "@jupyter-widgets/controls",
      "model_module_version": "1.5.0",
      "model_name": "LabelModel",
      "state": {
       "layout": "IPY_MODEL_ca86abdf03ff42eb701eb15641d3ddcd",
       "style": "IPY_MODEL_55e04e87a1d34fc1b4a43163a974470f",
       "value": "november (int bounded-text)"
      }
     },
     "2eac17b683ab42f8f893bd6eca601c40": {
      "model_module": "@jupyter-widgets/base",
      "model_module_version": "1.2.0",
      "model_name": "LayoutModel",
      "state": {}
     },
     "2f11287db8064510b91f77f1c905bd6b": {
      "model_module": "@jupyter-widgets/base",
      "model_module_version": "1.2.0",
      "model_name": "LayoutModel",
      "state": {}
     },
     "3229bae25aca4f5b9e7c8082f079d459": {
      "model_module": "@jupyter-widgets/controls",
      "model_module_version": "1.5.0",
      "model_name": "DescriptionStyleModel",
      "state": {}
     },
     "32a4c8ac2efa4ae2ff9c61c4949c9be9": {
      "model_module": "@jupyter-widgets/base",
      "model_module_version": "1.2.0",
      "model_name": "LayoutModel",
      "state": {}
     },
     "32e53d3b79384ad4b90d7a02d07f3b6d": {
      "model_module": "@jupyter-widgets/controls",
      "model_module_version": "1.5.0",
      "model_name": "DescriptionStyleModel",
      "state": {}
     },
     "35ae042f3a414b9616cab5ab8b337773": {
      "model_module": "@jupyter-widgets/controls",
      "model_module_version": "1.5.0",
      "model_name": "SliderStyleModel",
      "state": {}
     },
     "35e7220244d14418f63a80e982acf013": {
      "model_module": "@jupyter-widgets/base",
      "model_module_version": "1.2.0",
      "model_name": "LayoutModel",
      "state": {}
     },
     "36783bc406734de12a0ed2fbbbc76803": {
      "model_module": "@jupyter-widgets/controls",
      "model_module_version": "1.5.0",
      "model_name": "DescriptionStyleModel",
      "state": {}
     },
     "3841dd0ab8d5481eed21ab4ec2f6444a": {
      "model_module": "@jupyter-widgets/controls",
      "model_module_version": "1.5.0",
      "model_name": "DescriptionStyleModel",
      "state": {}
     },
     "38d6b267c0494cb98be00a7642ee334c": {
      "model_module": "@jupyter-widgets/controls",
      "model_module_version": "1.5.0",
      "model_name": "BoundedFloatTextModel",
      "state": {
       "continuous_update": true,
       "layout": "IPY_MODEL_d44de46c8674464621b1772acc94b4c3",
       "style": "IPY_MODEL_28afe73fdb9344fc9335cd8ec0fcfc87"
      }
     },
     "39782ba37cdc48449e1ac54df85fe6e3": {
      "model_module": "@jupyter-widgets/controls",
      "model_module_version": "1.5.0",
      "model_name": "SelectModel",
      "state": {
       "_options_labels": [
        "fu",
        "bar",
        "wibble",
        "gronk",
        "kilroy"
       ],
       "index": null,
       "layout": "IPY_MODEL_0617c2eea1654856758421dc8c7ed517",
       "style": "IPY_MODEL_2adb40aee9de4ce0413a7e3cef433a6f"
      }
     },
     "3a9e9c1b6b2447bcbce56bf0c58cb4d0": {
      "model_module": "@jupyter-widgets/controls",
      "model_module_version": "1.5.0",
      "model_name": "DescriptionStyleModel",
      "state": {}
     },
     "3cd4e6a167154534d5fc5591b5b0824b": {
      "model_module": "@jupyter-widgets/controls",
      "model_module_version": "1.5.0",
      "model_name": "DescriptionStyleModel",
      "state": {}
     },
     "3d7db6152dd2416f76a55d53cb7a9555": {
      "model_module": "@jupyter-widgets/base",
      "model_module_version": "1.2.0",
      "model_name": "LayoutModel",
      "state": {}
     },
     "3e74340e262f4fdfc3c04068e181d249": {
      "model_module": "@jupyter-widgets/controls",
      "model_module_version": "1.5.0",
      "model_name": "FloatSliderModel",
      "state": {
       "layout": "IPY_MODEL_24912e9220914de8c28e5a07cca719f9",
       "step": 0.1,
       "style": "IPY_MODEL_80633410bf11458710b51600af25f5b0"
      }
     },
     "3fe7713f04e2435e1652d6051cf20672": {
      "model_module": "@jupyter-widgets/controls",
      "model_module_version": "1.5.0",
      "model_name": "SliderStyleModel",
      "state": {}
     },
     "427ed5f134654d7f5ff68d42ce2c5efd": {
      "model_module": "@jupyter-widgets/base",
      "model_module_version": "1.2.0",
      "model_name": "LayoutModel",
      "state": {}
     },
     "432d60534cfd43f28438f5395952bc5a": {
      "model_module": "@jupyter-widgets/controls",
      "model_module_version": "1.5.0",
      "model_name": "DescriptionStyleModel",
      "state": {}
     },
     "441b3f351a0246596626171a9ed46809": {
      "model_module": "@jupyter-widgets/controls",
      "model_module_version": "1.5.0",
      "model_name": "DescriptionStyleModel",
      "state": {}
     },
     "4677b100594d4c75d6c6c3e0f6557b9e": {
      "model_module": "@jupyter-widgets/controls",
      "model_module_version": "1.5.0",
      "model_name": "DescriptionStyleModel",
      "state": {}
     },
     "4a438cd074ba40998e40cea5c00cae5d": {
      "model_module": "@jupyter-widgets/base",
      "model_module_version": "1.2.0",
      "model_name": "LayoutModel",
      "state": {}
     },
     "4becacd8e0514de0a167ea0daa8fea84": {
      "model_module": "@jupyter-widgets/controls",
      "model_module_version": "1.5.0",
      "model_name": "DescriptionStyleModel",
      "state": {}
     },
     "4c2fa55892754502daa08dd6bb551e98": {
      "model_module": "@jupyter-widgets/controls",
      "model_module_version": "1.5.0",
      "model_name": "SliderStyleModel",
      "state": {}
     },
     "4c308697b69345c016d764981a358bea": {
      "model_module": "@jupyter-widgets/base",
      "model_module_version": "1.2.0",
      "model_name": "LayoutModel",
      "state": {}
     },
     "504e2c5f567a41b7ed2beab58c1be765": {
      "model_module": "@jupyter-widgets/controls",
      "model_module_version": "1.5.0",
      "model_name": "FileUploadModel",
      "state": {
       "accept": ".txt",
       "description": "",
       "icon": "",
       "layout": "IPY_MODEL_218cc7ebb1cb4650da7b273c85e1c79a",
       "metadata": false,
       "style": "IPY_MODEL_62d3deb168a24cc10fbd583ce7e15b67"
      }
     },
     "50e9324d5e8e446711dd86ba8decd3a4": {
      "model_module": "@jupyter-widgets/controls",
      "model_module_version": "1.5.0",
      "model_name": "LabelModel",
      "state": {
       "layout": "IPY_MODEL_72ef758019114a8833821d320ee6f179",
       "style": "IPY_MODEL_3cd4e6a167154534d5fc5591b5b0824b",
       "value": "lima (int text)"
      }
     },
     "51b01ddb6b6e45e779726e9903c7e74d": {
      "model_module": "@jupyter-widgets/controls",
      "model_module_version": "1.5.0",
      "model_name": "DescriptionStyleModel",
      "state": {}
     },
     "524fa8962a8f42f9f929d2f0dc53fe93": {
      "model_module": "@jupyter-widgets/controls",
      "model_module_version": "1.5.0",
      "model_name": "DescriptionStyleModel",
      "state": {}
     },
     "52dfcc74ea9442828a7109866d5984d3": {
      "model_module": "@jupyter-widgets/base",
      "model_module_version": "1.2.0",
      "model_name": "LayoutModel",
      "state": {}
     },
     "532e21f9b68d47782b21057e274ceed5": {
      "model_module": "@jupyter-widgets/base",
      "model_module_version": "1.2.0",
      "model_name": "LayoutModel",
      "state": {}
     },
     "54775a77ca7a48e4b6ab294ca60e2197": {
      "model_module": "@jupyter-widgets/controls",
      "model_module_version": "1.5.0",
      "model_name": "ToggleButtonModel",
      "state": {
       "description": "toggle",
       "layout": "IPY_MODEL_bf6323228e0848d9c44185dc2d0b973e",
       "style": "IPY_MODEL_0817b9a550e3407af54b01c4ae1dd9cb",
       "tooltip": null
      }
     },
     "55a5d36675eb4719be53b176b664e2a8": {
      "model_module": "@jupyter-widgets/controls",
      "model_module_version": "1.5.0",
      "model_name": "DescriptionStyleModel",
      "state": {}
     },
     "55e04e87a1d34fc1b4a43163a974470f": {
      "model_module": "@jupyter-widgets/controls",
      "model_module_version": "1.5.0",
      "model_name": "DescriptionStyleModel",
      "state": {}
     },
     "5763554982e74236b537ad0fab5ad7ea": {
      "model_module": "@jupyter-widgets/controls",
      "model_module_version": "1.5.0",
      "model_name": "FloatRangeSliderModel",
      "state": {
       "_model_name": "FloatRangeSliderModel",
       "_view_name": "FloatRangeSliderView",
       "layout": "IPY_MODEL_bdf7a63379d244cf7da1ee61f5fe6ad6",
       "step": 0.1,
       "style": "IPY_MODEL_d66db577db314d15ce8affeded59b6af",
       "value": [
        0,
        1
       ]
      }
     },
     "59b62a5b13b64bf0043375d4e4d1103e": {
      "model_module": "@jupyter-widgets/controls",
      "model_module_version": "1.5.0",
      "model_name": "LabelModel",
      "state": {
       "layout": "IPY_MODEL_f8145a6307014dfc69d5b2a27d4222b2",
       "style": "IPY_MODEL_fd72c9db3e794f48d0f0bc15db6a34c6",
       "value": "sierra (option slider)"
      }
     },
     "5c2b211161b84da2f8e8496d47c5af7e": {
      "model_module": "@jupyter-widgets/controls",
      "model_module_version": "1.5.0",
      "model_name": "ColorPickerModel",
      "state": {
       "disabled": false,
       "layout": "IPY_MODEL_da90c863ac154085ea58f91738bd6974",
       "style": "IPY_MODEL_ec381a8e1f2b43b43ab67c12e182f955",
       "value": "blue"
      }
     },
     "5dc3122675524fe13abd9cf6a126c599": {
      "model_module": "@jupyter-widgets/controls",
      "model_module_version": "1.5.0",
      "model_name": "DescriptionStyleModel",
      "state": {}
     },
     "5dda4f4eaa6a4cb065d049a61fb1ff63": {
      "model_module": "@jupyter-widgets/controls",
      "model_module_version": "1.5.0",
      "model_name": "LabelModel",
      "state": {
       "layout": "IPY_MODEL_a22f087d82d149338d60670bc0bd1fdc",
       "style": "IPY_MODEL_919d925b297e4da5837fc960d1f2343b",
       "value": "echo (file)"
      }
     },
     "5e3229be96bb47bd89c96071b9f75fe9": {
      "model_module": "@jupyter-widgets/controls",
      "model_module_version": "1.5.0",
      "model_name": "DescriptionStyleModel",
      "state": {}
     },
     "5e72a8e2c9b845cad01fd6fdf3aba9dc": {
      "model_module": "@jupyter-widgets/base",
      "model_module_version": "1.2.0",
      "model_name": "LayoutModel",
      "state": {}
     },
     "5efd38584fa4482ba9c6eee3acff2e4d": {
      "model_module": "@jupyter-widgets/controls",
      "model_module_version": "1.5.0",
      "model_name": "BoundedIntTextModel",
      "state": {
       "continuous_update": true,
       "layout": "IPY_MODEL_af02ae9b68d341b0f9de352c3e8f7cf4",
       "max": 10,
       "min": -10,
       "style": "IPY_MODEL_e9efcb200fa846b3ddff9a21765fc4e3"
      }
     },
     "5f37948582134b7c1e1b78026fc621da": {
      "model_module": "@jupyter-widgets/base",
      "model_module_version": "1.2.0",
      "model_name": "LayoutModel",
      "state": {
       "display": "block"
      }
     },
     "5f9cb42f50784083b4cd080457c201df": {
      "model_module": "@jupyter-widgets/base",
      "model_module_version": "1.2.0",
      "model_name": "LayoutModel",
      "state": {}
     },
     "607b650dd5a947bee2ef9391ad50eb9c": {
      "model_module": "@jupyter-widgets/controls",
      "model_module_version": "1.5.0",
      "model_name": "DescriptionStyleModel",
      "state": {}
     },
     "627009119c7b4a4a36e3ace9d1681325": {
      "model_module": "@jupyter-widgets/controls",
      "model_module_version": "1.5.0",
      "model_name": "SliderStyleModel",
      "state": {}
     },
     "62d3deb168a24cc10fbd583ce7e15b67": {
      "model_module": "@jupyter-widgets/controls",
      "model_module_version": "1.5.0",
      "model_name": "DescriptionStyleModel",
      "state": {}
     },
     "62ded3b38dbe4f3cdf268b14caa9b618": {
      "model_module": "@jupyter-widgets/controls",
      "model_module_version": "1.5.0",
      "model_name": "DescriptionStyleModel",
      "state": {}
     },
     "6390112954bf494cbfc5ac89b1444239": {
      "model_module": "@jupyter-widgets/base",
      "model_module_version": "1.2.0",
      "model_name": "LayoutModel",
      "state": {}
     },
     "63d8631cd9b04ac0ffc523560d25806d": {
      "model_module": "@jupyter-widgets/base",
      "model_module_version": "1.2.0",
      "model_name": "LayoutModel",
      "state": {}
     },
     "6550ff4089444e5ac1c16988864a49bc": {
      "model_module": "@jupyter-widgets/base",
      "model_module_version": "1.2.0",
      "model_name": "LayoutModel",
      "state": {
       "display": "block"
      }
     },
     "6808cda3bf774957590aa7f10032735e": {
      "model_module": "@jupyter-widgets/controls",
      "model_module_version": "1.5.0",
      "model_name": "FloatLogSliderModel",
      "state": {
       "layout": "IPY_MODEL_4c308697b69345c016d764981a358bea",
       "max": 100,
       "style": "IPY_MODEL_4c2fa55892754502daa08dd6bb551e98",
       "value": 0
      }
     },
     "683e6d38f95d48d75d661d500a1fef18": {
      "model_module": "@jupyter-widgets/base",
      "model_module_version": "1.2.0",
      "model_name": "LayoutModel",
      "state": {}
     },
     "6897ab60f2364f2b15d305851b6f754f": {
      "model_module": "@jupyter-widgets/controls",
      "model_module_version": "1.5.0",
      "model_name": "DescriptionStyleModel",
      "state": {}
     },
     "6900e6c3a4d74c32d3bf33c559f7bef0": {
      "model_module": "@jupyter-widgets/base",
      "model_module_version": "1.2.0",
      "model_name": "LayoutModel",
      "state": {}
     },
     "6a5cdce5afc842dfec9942b7212a8ae1": {
      "model_module": "@jupyter-widgets/controls",
      "model_module_version": "1.5.0",
      "model_name": "LabelModel",
      "state": {
       "layout": "IPY_MODEL_20af88182e554be6208f1914377bf212",
       "style": "IPY_MODEL_432d60534cfd43f28438f5395952bc5a",
       "value": "romeo (option radio)"
      }
     },
     "6ac28931c3ca40eb5b4df3c124dd4bd5": {
      "model_module": "@jupyter-widgets/controls",
      "model_module_version": "1.5.0",
      "model_name": "SliderStyleModel",
      "state": {}
     },
     "6d81e37b99d14844328dee9a110f8698": {
      "model_module": "@jupyter-widgets/controls",
      "model_module_version": "1.5.0",
      "model_name": "DescriptionStyleModel",
      "state": {}
     },
     "6e03b8a597114e8c205d235ddb047875": {
      "model_module": "@jupyter-widgets/base",
      "model_module_version": "1.2.0",
      "model_name": "LayoutModel",
      "state": {}
     },
     "6e0476ba7ae1430f96f8b1c24bbef9d3": {
      "model_module": "@jupyter-widgets/controls",
      "model_module_version": "1.5.0",
      "model_name": "DescriptionStyleModel",
      "state": {}
     },
     "6e981c116e5a4949577ffa1b00843953": {
      "model_module": "@jupyter-widgets/base",
      "model_module_version": "1.2.0",
      "model_name": "LayoutModel",
      "state": {}
     },
     "6f94b1115de04b1b4f4bf9c485422991": {
      "model_module": "@jupyter-widgets/controls",
      "model_module_version": "1.5.0",
      "model_name": "IntTextModel",
      "state": {
       "continuous_update": true,
       "layout": "IPY_MODEL_29af33089baa47522b3f09c0c041bad0",
       "step": 1,
       "style": "IPY_MODEL_f4680aede5644df03c19ea824f1f5756",
       "value": 3
      }
     },
     "7135ccea311540af06577457770fba5c": {
      "model_module": "@jupyter-widgets/controls",
      "model_module_version": "1.5.0",
      "model_name": "DescriptionStyleModel",
      "state": {}
     },
     "722ce048a42547ed0c204326c2459cdd": {
      "model_module": "@jupyter-widgets/controls",
      "model_module_version": "1.5.0",
      "model_name": "DescriptionStyleModel",
      "state": {}
     },
     "729f2962d29e4e3e52aa96e974439873": {
      "model_module": "@jupyter-widgets/base",
      "model_module_version": "1.2.0",
      "model_name": "LayoutModel",
      "state": {}
     },
     "72a3709e62754ffc81f1d37fae0b96d6": {
      "model_module": "@jupyter-widgets/controls",
      "model_module_version": "1.5.0",
      "model_name": "LabelModel",
      "state": {
       "layout": "IPY_MODEL_78cbe35db53645e8bc177a74a1d10afb",
       "style": "IPY_MODEL_795e7bf0f22a48563eb6ec685d1b6db1",
       "value": "quebec (option dropdown)"
      }
     },
     "72ef758019114a8833821d320ee6f179": {
      "model_module": "@jupyter-widgets/base",
      "model_module_version": "1.2.0",
      "model_name": "LayoutModel",
      "state": {}
     },
     "731a7a4fb8fd4bd3598bd378350b0cf0": {
      "model_module": "@jupyter-widgets/controls",
      "model_module_version": "1.5.0",
      "model_name": "DescriptionStyleModel",
      "state": {}
     },
     "73206a6e458b431fa97406008e7bb39e": {
      "model_module": "@jupyter-widgets/controls",
      "model_module_version": "1.5.0",
      "model_name": "LabelModel",
      "state": {
       "layout": "IPY_MODEL_3d7db6152dd2416f76a55d53cb7a9555",
       "style": "IPY_MODEL_cd22b53e15ea43266a73477d9eb404ed",
       "value": "lima (int text)"
      }
     },
     "74255d24045f4229bcd0141e99e2dea0": {
      "model_module": "@jupyter-widgets/controls",
      "model_module_version": "1.5.0",
      "model_name": "DescriptionStyleModel",
      "state": {}
     },
     "77284e21082749e78e860cee64c2b4fd": {
      "model_module": "@jupyter-widgets/base",
      "model_module_version": "1.2.0",
      "model_name": "LayoutModel",
      "state": {}
     },
     "7833648f01184051a44d29a67a7696af": {
      "model_module": "@jupyter-widgets/controls",
      "model_module_version": "1.5.0",
      "model_name": "SliderStyleModel",
      "state": {}
     },
     "787845f5385149edbbff48a3d2069156": {
      "model_module": "@jupyter-widgets/base",
      "model_module_version": "1.2.0",
      "model_name": "LayoutModel",
      "state": {}
     },
     "78923dbf6539430172725554ee7b6b0a": {
      "model_module": "@jupyter-widgets/controls",
      "model_module_version": "1.5.0",
      "model_name": "GridBoxModel",
      "state": {
       "children": [
        "IPY_MODEL_2177133413044244e86aaf5e2f81b181",
        "IPY_MODEL_7a42ca28fa704eab0c4d4df86e519e70",
        "IPY_MODEL_0ced4ad13057422f9705d8d6fff7e534",
        "IPY_MODEL_54775a77ca7a48e4b6ab294ca60e2197",
        "IPY_MODEL_b80ebb6a4e0444afb5eef0b2b24e0832",
        "IPY_MODEL_c3a0928ebe3045e62a4606fc97bea700",
        "IPY_MODEL_0a8ddad5d27d46c7583d2a65027a8b19",
        "IPY_MODEL_a34021d7c4c94f261d63ade93d9dbae4",
        "IPY_MODEL_5dda4f4eaa6a4cb065d049a61fb1ff63",
        "IPY_MODEL_504e2c5f567a41b7ed2beab58c1be765",
        "IPY_MODEL_a575251f9963486e2960cb8d65d19680",
        "IPY_MODEL_8c3ca599c4714a31196d713bcf2a448c",
        "IPY_MODEL_290f46d7adb440ade9b6df2421d4d5e2",
        "IPY_MODEL_828517fd24b84dbb277ea373d45b932a",
        "IPY_MODEL_ce72855f5a8b45a5796f560cbe82bfa5",
        "IPY_MODEL_6808cda3bf774957590aa7f10032735e",
        "IPY_MODEL_aff23d96fe254d717a65dd8e3a45dc59",
        "IPY_MODEL_3e74340e262f4fdfc3c04068e181d249",
        "IPY_MODEL_930278f3114844b98ed83574aaec2cdb",
        "IPY_MODEL_38d6b267c0494cb98be00a7642ee334c",
        "IPY_MODEL_97b153c238c14a534b9af4f8696202f7",
        "IPY_MODEL_5763554982e74236b537ad0fab5ad7ea",
        "IPY_MODEL_50e9324d5e8e446711dd86ba8decd3a4",
        "IPY_MODEL_6f94b1115de04b1b4f4bf9c485422991",
        "IPY_MODEL_8ea93990652e4f48cb4429fff62a95e7",
        "IPY_MODEL_c9e254d004aa404b2f7a765f8315a089",
        "IPY_MODEL_cea5f7f960c54d6fe24665e97e2da85c",
        "IPY_MODEL_5efd38584fa4482ba9c6eee3acff2e4d",
        "IPY_MODEL_dad615b7b6904cc9dbf147b4fe09c4e1",
        "IPY_MODEL_f9cd6f7eb5a04987f06f1f9aa5ff53f1",
        "IPY_MODEL_0db486cebda044036e1b5feb2bc36b30",
        "IPY_MODEL_39782ba37cdc48449e1ac54df85fe6e3",
        "IPY_MODEL_72a3709e62754ffc81f1d37fae0b96d6",
        "IPY_MODEL_bc22f3c7cfac46ba7e47fdc2c7024e02",
        "IPY_MODEL_6a5cdce5afc842dfec9942b7212a8ae1",
        "IPY_MODEL_92c60281baef4bb173f20303979cb76c",
        "IPY_MODEL_59b62a5b13b64bf0043375d4e4d1103e",
        "IPY_MODEL_d38663c543ee4ff22135acb79580191e",
        "IPY_MODEL_e8c7857c297b4c2614b700cc1532b6c3",
        "IPY_MODEL_9bfba692e5684f3ae60ef21e0bc01d63",
        "IPY_MODEL_081c78dfbfe14a496bbc4f755a6eff45",
        "IPY_MODEL_f1540a85b34d4e4fa8a084aca79d536a",
        "IPY_MODEL_7fe666277b5d4f24f845af9bd6cd2637",
        "IPY_MODEL_d4968d62ecb84b8f970d7d626da80fea",
        "IPY_MODEL_07f42886729040da46868b6bd74e5325",
        "IPY_MODEL_9e38f35ce7694e8fb9185387da6d5d45",
        "IPY_MODEL_b3b4869f21324d8080e97b94ffb460a6",
        "IPY_MODEL_f661325619de49812fa5072efe3e93ae",
        "IPY_MODEL_e02eddeed7e3401bce9caf692d0533fb",
        "IPY_MODEL_fa730831dfa249517b977fb169405d69"
       ],
       "layout": "IPY_MODEL_a580dafe690b4319727531772c43b4ce"
      }
     },
     "7893ca0941894d2217e2489b21317c44": {
      "model_module": "@jupyter-widgets/controls",
      "model_module_version": "1.5.0",
      "model_name": "SelectionSliderModel",
      "state": {
       "_options_labels": [
        "fu",
        "bar",
        "wibble",
        "gronk",
        "kilroy"
       ],
       "index": null,
       "layout": "IPY_MODEL_0dc5c4cffb144f3fc9c77e8cd5c0f3ae",
       "style": "IPY_MODEL_7833648f01184051a44d29a67a7696af"
      }
     },
     "78cbe35db53645e8bc177a74a1d10afb": {
      "model_module": "@jupyter-widgets/base",
      "model_module_version": "1.2.0",
      "model_name": "LayoutModel",
      "state": {}
     },
     "79059f9ee09f4c72ff72b6dd85b193e8": {
      "model_module": "@jupyter-widgets/controls",
      "model_module_version": "1.5.0",
      "model_name": "SelectionRangeSliderModel",
      "state": {
       "_model_name": "SelectionRangeSliderModel",
       "_options_labels": [
        "fu",
        "bar",
        "wibble",
        "gronk",
        "kilroy"
       ],
       "_view_name": "SelectionRangeSliderView",
       "index": [
        0,
        0
       ],
       "layout": "IPY_MODEL_f58e5a119ad84031bae6f9df96645eac",
       "style": "IPY_MODEL_2b7a99dff62e4c30e4ea35be8b29d3a8"
      }
     },
     "795e7bf0f22a48563eb6ec685d1b6db1": {
      "model_module": "@jupyter-widgets/controls",
      "model_module_version": "1.5.0",
      "model_name": "DescriptionStyleModel",
      "state": {}
     },
     "7a42ca28fa704eab0c4d4df86e519e70": {
      "model_module": "@jupyter-widgets/controls",
      "model_module_version": "1.5.0",
      "model_name": "CheckboxModel",
      "state": {
       "disabled": false,
       "layout": "IPY_MODEL_6550ff4089444e5ac1c16988864a49bc",
       "style": "IPY_MODEL_00977668bf93420004003fe11906e06f",
       "value": false
      }
     },
     "7a9d33b27e6d406c9af70195b8bda5b1": {
      "model_module": "@jupyter-widgets/base",
      "model_module_version": "1.2.0",
      "model_name": "LayoutModel",
      "state": {}
     },
     "7ab6480c0e3e445aee50611ffecb2ec1": {
      "model_module": "@jupyter-widgets/controls",
      "model_module_version": "1.5.0",
      "model_name": "DescriptionStyleModel",
      "state": {}
     },
     "7be1fbc68d57465e6476255f5476ae94": {
      "model_module": "@jupyter-widgets/base",
      "model_module_version": "1.2.0",
      "model_name": "LayoutModel",
      "state": {}
     },
     "7c907a6a19704e4626beb7353c98937e": {
      "model_module": "@jupyter-widgets/controls",
      "model_module_version": "1.5.0",
      "model_name": "DescriptionStyleModel",
      "state": {}
     },
     "7e238baf81304527fd887789c3f5e72b": {
      "model_module": "@jupyter-widgets/base",
      "model_module_version": "1.2.0",
      "model_name": "LayoutModel",
      "state": {}
     },
     "7e31892ffef44aa62e139f508b34bf40": {
      "model_module": "@jupyter-widgets/controls",
      "model_module_version": "1.5.0",
      "model_name": "LabelModel",
      "state": {
       "layout": "IPY_MODEL_23fb2f7d930e445422cddc7093569cc5",
       "style": "IPY_MODEL_55a5d36675eb4719be53b176b664e2a8",
       "value": "quebec (option dropdown)"
      }
     },
     "7f3e4673885546897bc374734e91bbbe": {
      "model_module": "@jupyter-widgets/controls",
      "model_module_version": "1.5.0",
      "model_name": "DescriptionStyleModel",
      "state": {}
     },
     "7fc39dcec3be4946ce9c63e7c03934cd": {
      "model_module": "@jupyter-widgets/base",
      "model_module_version": "1.2.0",
      "model_name": "LayoutModel",
      "state": {}
     },
     "7fe666277b5d4f24f845af9bd6cd2637": {
      "model_module": "@jupyter-widgets/controls",
      "model_module_version": "1.5.0",
      "model_name": "LabelModel",
      "state": {
       "layout": "IPY_MODEL_abefb83f3421461f13990c06caa48a1e",
       "style": "IPY_MODEL_5dc3122675524fe13abd9cf6a126c599",
       "value": "victor (option-multiple)"
      }
     },
     "802ab2b719064c7b825cf6a09574d447": {
      "model_module": "@jupyter-widgets/controls",
      "model_module_version": "1.5.0",
      "model_name": "FloatTextModel",
      "state": {
       "continuous_update": true,
       "layout": "IPY_MODEL_a9b8b163f94349113a2c41e5e6276c63",
       "step": 0.1,
       "style": "IPY_MODEL_bcc45f988ba54112ec45b276a575dc46"
      }
     },
     "80633410bf11458710b51600af25f5b0": {
      "model_module": "@jupyter-widgets/controls",
      "model_module_version": "1.5.0",
      "model_name": "SliderStyleModel",
      "state": {}
     },
     "806605f5511a4777c8b5f61d06388b63": {
      "model_module": "@jupyter-widgets/base",
      "model_module_version": "1.2.0",
      "model_name": "LayoutModel",
      "state": {}
     },
     "807edc9bfc2645a7cab91d33a8efd250": {
      "model_module": "@jupyter-widgets/controls",
      "model_module_version": "1.5.0",
      "model_name": "SliderStyleModel",
      "state": {}
     },
     "81c10f4ad82b4f370bd58fab32518507": {
      "model_module": "@jupyter-widgets/base",
      "model_module_version": "1.2.0",
      "model_name": "LayoutModel",
      "state": {}
     },
     "81e371d9ec204a64aa1c51b2fd854ac3": {
      "model_module": "@jupyter-widgets/base",
      "model_module_version": "1.2.0",
      "model_name": "LayoutModel",
      "state": {}
     },
     "828517fd24b84dbb277ea373d45b932a": {
      "model_module": "@jupyter-widgets/controls",
      "model_module_version": "1.5.0",
      "model_name": "FloatTextModel",
      "state": {
       "continuous_update": true,
       "layout": "IPY_MODEL_f34d429ee3c54499ae495e72f06e42d7",
       "step": 0.1,
       "style": "IPY_MODEL_1e34c3c41ac14dbc4a2bde03fb2bf07c",
       "value": 3.2
      }
     },
     "83356c29404b47816cc73451c6b145f2": {
      "model_module": "@jupyter-widgets/base",
      "model_module_version": "1.2.0",
      "model_name": "LayoutModel",
      "state": {}
     },
     "83b1386e0551474b19efa04421866ab7": {
      "model_module": "@jupyter-widgets/base",
      "model_module_version": "1.2.0",
      "model_name": "LayoutModel",
      "state": {}
     },
     "8403360f6eec44bdcf9880aafabff9aa": {
      "model_module": "@jupyter-widgets/controls",
      "model_module_version": "1.5.0",
      "model_name": "FloatSliderModel",
      "state": {
       "layout": "IPY_MODEL_cd0ce52e136f4b5a4eae82d8e7f3e088",
       "step": 0.1,
       "style": "IPY_MODEL_6ac28931c3ca40eb5b4df3c124dd4bd5"
      }
     },
     "87509be48da94dae7ce4885b144b392e": {
      "model_module": "@jupyter-widgets/base",
      "model_module_version": "1.2.0",
      "model_name": "LayoutModel",
      "state": {}
     },
     "88b9bb55caab435d7d0b55f0dfa59ed4": {
      "model_module": "@jupyter-widgets/base",
      "model_module_version": "1.2.0",
      "model_name": "LayoutModel",
      "state": {}
     },
     "89234a52bce940565ce6b84ac63ddbc9": {
      "model_module": "@jupyter-widgets/controls",
      "model_module_version": "1.5.0",
      "model_name": "LabelModel",
      "state": {
       "layout": "IPY_MODEL_5f9cb42f50784083b4cd080457c201df",
       "style": "IPY_MODEL_9a65ab5ed43a4a26d4f5cc87599ccee6",
       "value": "delta (date)"
      }
     },
     "89c2f9198ebe44a86ffd52d4e0ea00e5": {
      "model_module": "@jupyter-widgets/controls",
      "model_module_version": "1.5.0",
      "model_name": "LabelModel",
      "state": {
       "layout": "IPY_MODEL_77284e21082749e78e860cee64c2b4fd",
       "style": "IPY_MODEL_51b01ddb6b6e45e779726e9903c7e74d",
       "value": "charlie (color)"
      }
     },
     "8a7ab9dfabf74c71ab85dbbffd75197a": {
      "model_module": "@jupyter-widgets/controls",
      "model_module_version": "1.5.0",
      "model_name": "LabelModel",
      "state": {
       "layout": "IPY_MODEL_b2ebad0b48b54670f543fa48dafbe2e5",
       "style": "IPY_MODEL_8fe23e7093f54947aa51401916b98e92",
       "value": "romeo (option radio)"
      }
     },
     "8b156f8ba63541da1873ae1af4154e82": {
      "model_module": "@jupyter-widgets/controls",
      "model_module_version": "1.5.0",
      "model_name": "DescriptionStyleModel",
      "state": {}
     },
     "8b21fb78be354e562b69305ab78e8784": {
      "model_module": "@jupyter-widgets/base",
      "model_module_version": "1.2.0",
      "model_name": "LayoutModel",
      "state": {}
     },
     "8c1dc6b8c48f4aa5264f66fca2dc7a85": {
      "model_module": "@jupyter-widgets/controls",
      "model_module_version": "1.5.0",
      "model_name": "DescriptionStyleModel",
      "state": {}
     },
     "8c3ca599c4714a31196d713bcf2a448c": {
      "model_module": "@jupyter-widgets/controls",
      "model_module_version": "1.5.0",
      "model_name": "FileUploadModel",
      "state": {
       "accept": null,
       "description": "",
       "icon": "",
       "layout": "IPY_MODEL_20274e8b8a1142138a7b5c2bc8b34798",
       "metadata": false,
       "multiple": true,
       "style": "IPY_MODEL_1f5d708d076b4608c8f92028c839c687"
      }
     },
     "8d5285f7ade54883b9be256544a98011": {
      "model_module": "@jupyter-widgets/controls",
      "model_module_version": "1.5.0",
      "model_name": "LabelModel",
      "state": {
       "layout": "IPY_MODEL_d706e4b634ee411ddc5bbac903d89f7e",
       "style": "IPY_MODEL_a4429be059964295d949b970702f5a3f",
       "value": "juliett (float bounded-text)"
      }
     },
     "8ea93990652e4f48cb4429fff62a95e7": {
      "model_module": "@jupyter-widgets/controls",
      "model_module_version": "1.5.0",
      "model_name": "LabelModel",
      "state": {
       "layout": "IPY_MODEL_b4a18645297f4e6c2c81298b0d5161c6",
       "style": "IPY_MODEL_32e53d3b79384ad4b90d7a02d07f3b6d",
       "value": "mike (int slider)"
      }
     },
     "8fe23e7093f54947aa51401916b98e92": {
      "model_module": "@jupyter-widgets/controls",
      "model_module_version": "1.5.0",
      "model_name": "DescriptionStyleModel",
      "state": {}
     },
     "910c5d85486a4ed7a94e09fd9ad24036": {
      "model_module": "@jupyter-widgets/controls",
      "model_module_version": "1.5.0",
      "model_name": "LabelModel",
      "state": {
       "layout": "IPY_MODEL_e49b66e96e4146db5b4c39ed5674c38c",
       "style": "IPY_MODEL_f50ca9ae1fa94854de5cc806d7fae1b1",
       "value": "bravo (bool toggle)"
      }
     },
     "919d925b297e4da5837fc960d1f2343b": {
      "model_module": "@jupyter-widgets/controls",
      "model_module_version": "1.5.0",
      "model_name": "DescriptionStyleModel",
      "state": {}
     },
     "91a6c8884b4c45ca56459250f4182e2b": {
      "model_module": "@jupyter-widgets/controls",
      "model_module_version": "1.5.0",
      "model_name": "DescriptionStyleModel",
      "state": {}
     },
     "92c60281baef4bb173f20303979cb76c": {
      "model_module": "@jupyter-widgets/controls",
      "model_module_version": "1.5.0",
      "model_name": "RadioButtonsModel",
      "state": {
       "_options_labels": [
        "fu",
        "bar",
        "wibble",
        "gronk",
        "kilroy"
       ],
       "index": null,
       "layout": "IPY_MODEL_787845f5385149edbbff48a3d2069156",
       "rows": 5,
       "style": "IPY_MODEL_e382110e70574f797ba3a8d8b2827dc4"
      }
     },
     "930278f3114844b98ed83574aaec2cdb": {
      "model_module": "@jupyter-widgets/controls",
      "model_module_version": "1.5.0",
      "model_name": "LabelModel",
      "state": {
       "layout": "IPY_MODEL_88b9bb55caab435d7d0b55f0dfa59ed4",
       "style": "IPY_MODEL_ec3c143ee8764e436691678be832a6ec",
       "value": "juliett (float bounded-text)"
      }
     },
     "93a8804150894555959b6f748b24fb12": {
      "model_module": "@jupyter-widgets/controls",
      "model_module_version": "1.5.0",
      "model_name": "LabelModel",
      "state": {
       "layout": "IPY_MODEL_dd450f1b22254c345d78528e0f0975b5",
       "style": "IPY_MODEL_74255d24045f4229bcd0141e99e2dea0",
       "value": "sierra (option slider)"
      }
     },
     "93fbfd2af4ad4f2b4f7aa0558ba801a2": {
      "model_module": "@jupyter-widgets/controls",
      "model_module_version": "1.5.0",
      "model_name": "DescriptionStyleModel",
      "state": {}
     },
     "96a21a3bdd13414fbe8439f59ba0043a": {
      "model_module": "@jupyter-widgets/base",
      "model_module_version": "1.2.0",
      "model_name": "LayoutModel",
      "state": {}
     },
     "97b153c238c14a534b9af4f8696202f7": {
      "model_module": "@jupyter-widgets/controls",
      "model_module_version": "1.5.0",
      "model_name": "LabelModel",
      "state": {
       "layout": "IPY_MODEL_11fd76a7e9464e03cf43e7730f5e6822",
       "style": "IPY_MODEL_17ba57025dc34b5065c74616736c3c97",
       "value": "kilo (float-range)"
      }
     },
     "9862710aebfe4dcf19e38c58940f79e9": {
      "model_module": "@jupyter-widgets/base",
      "model_module_version": "1.2.0",
      "model_name": "LayoutModel",
      "state": {}
     },
     "9973e7dac6d84f835f596062e7a55c93": {
      "model_module": "@jupyter-widgets/controls",
      "model_module_version": "1.5.0",
      "model_name": "DescriptionStyleModel",
      "state": {}
     },
     "999c06f09bbe4adb40ed6834065d26d5": {
      "model_module": "@jupyter-widgets/controls",
      "model_module_version": "1.5.0",
      "model_name": "DescriptionStyleModel",
      "state": {}
     },
     "9a65ab5ed43a4a26d4f5cc87599ccee6": {
      "model_module": "@jupyter-widgets/controls",
      "model_module_version": "1.5.0",
      "model_name": "DescriptionStyleModel",
      "state": {}
     },
     "9b8f4bd3839b4c8be025dff68fe2a979": {
      "model_module": "@jupyter-widgets/base",
      "model_module_version": "1.2.0",
      "model_name": "LayoutModel",
      "state": {}
     },
     "9bfba692e5684f3ae60ef21e0bc01d63": {
      "model_module": "@jupyter-widgets/controls",
      "model_module_version": "1.5.0",
      "model_name": "ToggleButtonsModel",
      "state": {
       "_options_labels": [
        "fu",
        "bar",
        "wibble",
        "gronk",
        "kilroy"
       ],
       "button_style": "",
       "icons": "",
       "index": null,
       "layout": "IPY_MODEL_427ed5f134654d7f5ff68d42ce2c5efd",
       "style": "IPY_MODEL_7ab6480c0e3e445aee50611ffecb2ec1"
      }
     },
     "9c2699e0fc2448bd962c46aa70aa2544": {
      "model_module": "@jupyter-widgets/base",
      "model_module_version": "1.2.0",
      "model_name": "LayoutModel",
      "state": {}
     },
     "9d1ef8a9417f43b144d1e34002b22bac": {
      "model_module": "@jupyter-widgets/controls",
      "model_module_version": "1.5.0",
      "model_name": "ComboboxModel",
      "state": {
       "ensure_option": true,
       "layout": "IPY_MODEL_83356c29404b47816cc73451c6b145f2",
       "options": [
        "fu",
        "bar",
        "wibble",
        "gronk",
        "kilroy"
       ],
       "style": "IPY_MODEL_a84e459620904591d222e1a9e943d7cf",
       "value": "bar"
      }
     },
     "9dca74d3872144cd161845163de95a50": {
      "model_module": "@jupyter-widgets/controls",
      "model_module_version": "1.5.0",
      "model_name": "FileUploadModel",
      "state": {
       "accept": ".txt",
       "description": "",
       "icon": "",
       "layout": "IPY_MODEL_729f2962d29e4e3e52aa96e974439873",
       "metadata": false,
       "style": "IPY_MODEL_3a9e9c1b6b2447bcbce56bf0c58cb4d0"
      }
     },
     "9e38f35ce7694e8fb9185387da6d5d45": {
      "model_module": "@jupyter-widgets/controls",
      "model_module_version": "1.5.0",
      "model_name": "TextModel",
      "state": {
       "layout": "IPY_MODEL_6e981c116e5a4949577ffa1b00843953",
       "style": "IPY_MODEL_e0a84c6af61a49a2bc3cc170b421f9de"
      }
     },
     "9e61e1c32982489d5a1fb6269120df0c": {
      "model_module": "@jupyter-widgets/base",
      "model_module_version": "1.2.0",
      "model_name": "LayoutModel",
      "state": {}
     },
     "a03a252cbf134e808b64abc31a56d3c4": {
      "model_module": "@jupyter-widgets/base",
      "model_module_version": "1.2.0",
      "model_name": "LayoutModel",
      "state": {}
     },
     "a1a8765009b940be77fb7141569a7fe1": {
      "model_module": "@jupyter-widgets/controls",
      "model_module_version": "1.5.0",
      "model_name": "DescriptionStyleModel",
      "state": {}
     },
     "a22f087d82d149338d60670bc0bd1fdc": {
      "model_module": "@jupyter-widgets/base",
      "model_module_version": "1.2.0",
      "model_name": "LayoutModel",
      "state": {}
     },
     "a34021d7c4c94f261d63ade93d9dbae4": {
      "model_module": "@jupyter-widgets/controls",
      "model_module_version": "1.5.0",
      "model_name": "DatePickerModel",
      "state": {
       "disabled": false,
       "layout": "IPY_MODEL_d8628ee40f044c31c92a172133f3e607",
       "style": "IPY_MODEL_1e89d54da35342e0ffa34c2f97223754"
      }
     },
     "a4429be059964295d949b970702f5a3f": {
      "model_module": "@jupyter-widgets/controls",
      "model_module_version": "1.5.0",
      "model_name": "DescriptionStyleModel",
      "state": {}
     },
     "a575251f9963486e2960cb8d65d19680": {
      "model_module": "@jupyter-widgets/controls",
      "model_module_version": "1.5.0",
      "model_name": "LabelModel",
      "state": {
       "layout": "IPY_MODEL_a03a252cbf134e808b64abc31a56d3c4",
       "style": "IPY_MODEL_524fa8962a8f42f9f929d2f0dc53fe93",
       "value": "foxtrot (file-multiple)"
      }
     },
     "a580dafe690b4319727531772c43b4ce": {
      "model_module": "@jupyter-widgets/base",
      "model_module_version": "1.2.0",
      "model_name": "LayoutModel",
      "state": {
       "grid_auto_rows": "min-content",
       "grid_gap": ".25em",
       "grid_template_columns": "min-content 1fr"
      }
     },
     "a5c239c3fdd1456f025a8c15ec99bee3": {
      "model_module": "@jupyter-widgets/controls",
      "model_module_version": "1.5.0",
      "model_name": "BoundedIntTextModel",
      "state": {
       "continuous_update": true,
       "layout": "IPY_MODEL_d1c69c1caa634e9027825a3698f5502f",
       "max": 10,
       "min": -10,
       "style": "IPY_MODEL_28b92db10305472d71acdb76a1226b97"
      }
     },
     "a6d0bdf45a6646d3d811b6871bf267f5": {
      "model_module": "@jupyter-widgets/controls",
      "model_module_version": "1.5.0",
      "model_name": "SelectModel",
      "state": {
       "_options_labels": [
        "fu",
        "bar",
        "wibble",
        "gronk",
        "kilroy"
       ],
       "index": null,
       "layout": "IPY_MODEL_81e371d9ec204a64aa1c51b2fd854ac3",
       "style": "IPY_MODEL_731a7a4fb8fd4bd3598bd378350b0cf0"
      }
     },
     "a836a26bce104ec3af17a58d4f817251": {
      "model_module": "@jupyter-widgets/controls",
      "model_module_version": "1.5.0",
      "model_name": "LabelModel",
      "state": {
       "layout": "IPY_MODEL_9b8f4bd3839b4c8be025dff68fe2a979",
       "style": "IPY_MODEL_ac8469da686840b57a1e26bcd8b1bbfe",
       "value": "india (float slider)"
      }
     },
     "a84e459620904591d222e1a9e943d7cf": {
      "model_module": "@jupyter-widgets/controls",
      "model_module_version": "1.5.0",
      "model_name": "DescriptionStyleModel",
      "state": {}
     },
     "a96d6e8c617e40512ac0a3495f053c74": {
      "model_module": "@jupyter-widgets/base",
      "model_module_version": "1.2.0",
      "model_name": "LayoutModel",
      "state": {}
     },
     "a9b8b163f94349113a2c41e5e6276c63": {
      "model_module": "@jupyter-widgets/base",
      "model_module_version": "1.2.0",
      "model_name": "LayoutModel",
      "state": {}
     },
     "abefb83f3421461f13990c06caa48a1e": {
      "model_module": "@jupyter-widgets/base",
      "model_module_version": "1.2.0",
      "model_name": "LayoutModel",
      "state": {}
     },
     "ac5d955112a54f6c8f4f90a1c4388ea4": {
      "model_module": "@jupyter-widgets/base",
      "model_module_version": "1.2.0",
      "model_name": "LayoutModel",
      "state": {}
     },
     "ac8469da686840b57a1e26bcd8b1bbfe": {
      "model_module": "@jupyter-widgets/controls",
      "model_module_version": "1.5.0",
      "model_name": "DescriptionStyleModel",
      "state": {}
     },
     "af02ae9b68d341b0f9de352c3e8f7cf4": {
      "model_module": "@jupyter-widgets/base",
      "model_module_version": "1.2.0",
      "model_name": "LayoutModel",
      "state": {}
     },
     "afd5dc05f36240f62e0901e1c5fb3eb6": {
      "model_module": "@jupyter-widgets/controls",
      "model_module_version": "1.5.0",
      "model_name": "TextareaModel",
      "state": {
       "layout": "IPY_MODEL_f6a8726f36684507f4a286b5e4c06608",
       "style": "IPY_MODEL_4677b100594d4c75d6c6c3e0f6557b9e"
      }
     },
     "aff23d96fe254d717a65dd8e3a45dc59": {
      "model_module": "@jupyter-widgets/controls",
      "model_module_version": "1.5.0",
      "model_name": "LabelModel",
      "state": {
       "layout": "IPY_MODEL_8b21fb78be354e562b69305ab78e8784",
       "style": "IPY_MODEL_c44c1d1c9ad14554e9ef5e1cf3017c65",
       "value": "india (float slider)"
      }
     },
     "b2ebad0b48b54670f543fa48dafbe2e5": {
      "model_module": "@jupyter-widgets/base",
      "model_module_version": "1.2.0",
      "model_name": "LayoutModel",
      "state": {}
     },
     "b39ec014837a4ffea19461a1598fe48a": {
      "model_module": "@jupyter-widgets/controls",
      "model_module_version": "1.5.0",
      "model_name": "FileUploadModel",
      "state": {
       "accept": null,
       "description": "",
       "icon": "",
       "layout": "IPY_MODEL_2f11287db8064510b91f77f1c905bd6b",
       "metadata": false,
       "multiple": true,
       "style": "IPY_MODEL_ca500d866b9b4f9589cb2e62a15de1cb"
      }
     },
     "b3b4869f21324d8080e97b94ffb460a6": {
      "model_module": "@jupyter-widgets/controls",
      "model_module_version": "1.5.0",
      "model_name": "LabelModel",
      "state": {
       "layout": "IPY_MODEL_6900e6c3a4d74c32d3bf33c559f7bef0",
       "style": "IPY_MODEL_0221c82f6e624ea8111597620c075e32",
       "value": "xray (string area)"
      }
     },
     "b44a5757681349b3921fc1de353a9ea3": {
      "model_module": "@jupyter-widgets/controls",
      "model_module_version": "1.5.0",
      "model_name": "CheckboxModel",
      "state": {
       "disabled": false,
       "layout": "IPY_MODEL_5f37948582134b7c1e1b78026fc621da",
       "style": "IPY_MODEL_1db1f1611a834cadb05da179a044754c",
       "value": false
      }
     },
     "b4a18645297f4e6c2c81298b0d5161c6": {
      "model_module": "@jupyter-widgets/base",
      "model_module_version": "1.2.0",
      "model_name": "LayoutModel",
      "state": {}
     },
     "b5b8009122c947dcfd359262ee909a3e": {
      "model_module": "@jupyter-widgets/controls",
      "model_module_version": "1.5.0",
      "model_name": "DescriptionStyleModel",
      "state": {}
     },
     "b694375d71294b943fa8d1a475b85e41": {
      "model_module": "@jupyter-widgets/controls",
      "model_module_version": "1.5.0",
      "model_name": "LabelModel",
      "state": {
       "layout": "IPY_MODEL_d6c78837b51143c3143230403d7df0db",
       "style": "IPY_MODEL_91a6c8884b4c45ca56459250f4182e2b",
       "value": "yankee (string combo)"
      }
     },
     "b80ebb6a4e0444afb5eef0b2b24e0832": {
      "model_module": "@jupyter-widgets/controls",
      "model_module_version": "1.5.0",
      "model_name": "LabelModel",
      "state": {
       "layout": "IPY_MODEL_52dfcc74ea9442828a7109866d5984d3",
       "style": "IPY_MODEL_7135ccea311540af06577457770fba5c",
       "value": "charlie (color)"
      }
     },
     "ba0192c32e5f4a387c155e639a3a0de9": {
      "model_module": "@jupyter-widgets/controls",
      "model_module_version": "1.5.0",
      "model_name": "LabelModel",
      "state": {
       "layout": "IPY_MODEL_7fc39dcec3be4946ce9c63e7c03934cd",
       "style": "IPY_MODEL_5e3229be96bb47bd89c96071b9f75fe9",
       "value": "mike (int slider)"
      }
     },
     "bc22f3c7cfac46ba7e47fdc2c7024e02": {
      "model_module": "@jupyter-widgets/controls",
      "model_module_version": "1.5.0",
      "model_name": "DropdownModel",
      "state": {
       "_options_labels": [
        "fu",
        "bar",
        "wibble",
        "gronk",
        "kilroy"
       ],
       "index": null,
       "layout": "IPY_MODEL_7e238baf81304527fd887789c3f5e72b",
       "rows": 5,
       "style": "IPY_MODEL_607b650dd5a947bee2ef9391ad50eb9c"
      }
     },
     "bcc45f988ba54112ec45b276a575dc46": {
      "model_module": "@jupyter-widgets/controls",
      "model_module_version": "1.5.0",
      "model_name": "DescriptionStyleModel",
      "state": {}
     },
     "bce6daa654ab46da7d71cd055ee9adbb": {
      "model_module": "@jupyter-widgets/controls",
      "model_module_version": "1.5.0",
      "model_name": "DescriptionStyleModel",
      "state": {}
     },
     "bcec013247284fe149845faf72fb3338": {
      "model_module": "@jupyter-widgets/controls",
      "model_module_version": "1.5.0",
      "model_name": "DescriptionStyleModel",
      "state": {}
     },
     "bdf7a63379d244cf7da1ee61f5fe6ad6": {
      "model_module": "@jupyter-widgets/base",
      "model_module_version": "1.2.0",
      "model_name": "LayoutModel",
      "state": {}
     },
     "bf6323228e0848d9c44185dc2d0b973e": {
      "model_module": "@jupyter-widgets/base",
      "model_module_version": "1.2.0",
      "model_name": "LayoutModel",
      "state": {
       "display": "block"
      }
     },
     "bfdfd8d9282e4f27f7301d278bf8b366": {
      "model_module": "@jupyter-widgets/controls",
      "model_module_version": "1.5.0",
      "model_name": "SliderStyleModel",
      "state": {}
     },
     "c028e3b6f7fd41b34647df22dd19744a": {
      "model_module": "@jupyter-widgets/base",
      "model_module_version": "1.2.0",
      "model_name": "LayoutModel",
      "state": {}
     },
     "c051a3ab3bcd4682c64dc1f3ef833a3e": {
      "model_module": "@jupyter-widgets/base",
      "model_module_version": "1.2.0",
      "model_name": "LayoutModel",
      "state": {}
     },
     "c185cd1f701e43f48b323d9e6eeeafe4": {
      "model_module": "@jupyter-widgets/base",
      "model_module_version": "1.2.0",
      "model_name": "LayoutModel",
      "state": {}
     },
     "c2460830f99c480a7be278607c4dfcc5": {
      "model_module": "@jupyter-widgets/base",
      "model_module_version": "1.2.0",
      "model_name": "LayoutModel",
      "state": {}
     },
     "c258d8d32a0b412407b372914ba572d4": {
      "model_module": "@jupyter-widgets/controls",
      "model_module_version": "1.5.0",
      "model_name": "DescriptionStyleModel",
      "state": {}
     },
     "c290854ed282409fd1307aed72d6dc32": {
      "model_module": "@jupyter-widgets/controls",
      "model_module_version": "1.5.0",
      "model_name": "GridBoxModel",
      "state": {
       "children": [
        "IPY_MODEL_052616cc9c454e349e9c002259e50b0c",
        "IPY_MODEL_b44a5757681349b3921fc1de353a9ea3",
        "IPY_MODEL_910c5d85486a4ed7a94e09fd9ad24036",
        "IPY_MODEL_cf4ae6cc7e9b4cef7bf9246ff7b53542",
        "IPY_MODEL_89c2f9198ebe44a86ffd52d4e0ea00e5",
        "IPY_MODEL_5c2b211161b84da2f8e8496d47c5af7e",
        "IPY_MODEL_89234a52bce940565ce6b84ac63ddbc9",
        "IPY_MODEL_28e30b19cea5461e42dd7b2c0a84c7c9",
        "IPY_MODEL_e67426e12af14fbd59f6df9e139aa16a",
        "IPY_MODEL_9dca74d3872144cd161845163de95a50",
        "IPY_MODEL_1a1b11c8403643a519e3ab262d42d2e4",
        "IPY_MODEL_b39ec014837a4ffea19461a1598fe48a",
        "IPY_MODEL_c51c35c2618f439bfa60abb58e30c398",
        "IPY_MODEL_802ab2b719064c7b825cf6a09574d447",
        "IPY_MODEL_ca7adb7f92e543533166ed03cf38aeb2",
        "IPY_MODEL_ef5ee5151b90461231dc5632932f9396",
        "IPY_MODEL_a836a26bce104ec3af17a58d4f817251",
        "IPY_MODEL_8403360f6eec44bdcf9880aafabff9aa",
        "IPY_MODEL_8d5285f7ade54883b9be256544a98011",
        "IPY_MODEL_dc2febefee8645256fbc505f2f3387ef",
        "IPY_MODEL_0dd312a5494245097354c91d27c5273b",
        "IPY_MODEL_c8498cfb00a541005ce659e07760d68e",
        "IPY_MODEL_73206a6e458b431fa97406008e7bb39e",
        "IPY_MODEL_cc4668c01e4e4cecd3a10824d62b9cf3",
        "IPY_MODEL_ba0192c32e5f4a387c155e639a3a0de9",
        "IPY_MODEL_1195615570c84b491312bc0e2fd9bd01",
        "IPY_MODEL_2c26c523c2614d3d491dc88b84ac1718",
        "IPY_MODEL_a5c239c3fdd1456f025a8c15ec99bee3",
        "IPY_MODEL_0b42d2ef4ec24c343ba73c7f5826ed9f",
        "IPY_MODEL_d707b0afadbb4e810b61cb2d39647374",
        "IPY_MODEL_d44965b78d6046e1157a0c5e6220198a",
        "IPY_MODEL_a6d0bdf45a6646d3d811b6871bf267f5",
        "IPY_MODEL_7e31892ffef44aa62e139f508b34bf40",
        "IPY_MODEL_1962c218ee8942587ef87777ff4903e8",
        "IPY_MODEL_8a7ab9dfabf74c71ab85dbbffd75197a",
        "IPY_MODEL_ed61a842c02f4b62199d5fba5c42a842",
        "IPY_MODEL_93a8804150894555959b6f748b24fb12",
        "IPY_MODEL_7893ca0941894d2217e2489b21317c44",
        "IPY_MODEL_f848f45459a545d39a6f2c716addd13d",
        "IPY_MODEL_f6259fa74787455eb5778f856225a13e",
        "IPY_MODEL_1e974ffa5b44436e0adafd7489713d1b",
        "IPY_MODEL_79059f9ee09f4c72ff72b6dd85b193e8",
        "IPY_MODEL_ff8127ed2b944a4a9f4208a34d061730",
        "IPY_MODEL_dcf463e1cfd84bd577c126913449463a",
        "IPY_MODEL_c3730b808978479d3f6497aaa4b1de6b",
        "IPY_MODEL_de73b252481f49c112cd25b68044e970",
        "IPY_MODEL_d8634931959346cf6fcc87203036a493",
        "IPY_MODEL_afd5dc05f36240f62e0901e1c5fb3eb6",
        "IPY_MODEL_b694375d71294b943fa8d1a475b85e41",
        "IPY_MODEL_9d1ef8a9417f43b144d1e34002b22bac"
       ],
       "layout": "IPY_MODEL_21db5e3a6da042490cb5e3decedd3bdf"
      }
     },
     "c3730b808978479d3f6497aaa4b1de6b": {
      "model_module": "@jupyter-widgets/controls",
      "model_module_version": "1.5.0",
      "model_name": "LabelModel",
      "state": {
       "layout": "IPY_MODEL_683e6d38f95d48d75d661d500a1fef18",
       "style": "IPY_MODEL_7c907a6a19704e4626beb7353c98937e",
       "value": "whiskey (string text)"
      }
     },
     "c3a0928ebe3045e62a4606fc97bea700": {
      "model_module": "@jupyter-widgets/controls",
      "model_module_version": "1.5.0",
      "model_name": "ColorPickerModel",
      "state": {
       "disabled": false,
       "layout": "IPY_MODEL_e0e5fad1946a4ff0138dc6b73e2af5c2",
       "style": "IPY_MODEL_7f3e4673885546897bc374734e91bbbe",
       "value": "blue"
      }
     },
     "c44c1d1c9ad14554e9ef5e1cf3017c65": {
      "model_module": "@jupyter-widgets/controls",
      "model_module_version": "1.5.0",
      "model_name": "DescriptionStyleModel",
      "state": {}
     },
     "c493bac572214ca296fc2e4473ef8c89": {
      "model_module": "@jupyter-widgets/base",
      "model_module_version": "1.2.0",
      "model_name": "LayoutModel",
      "state": {}
     },
     "c4f9790f427f424b0032925e422098b0": {
      "model_module": "@jupyter-widgets/controls",
      "model_module_version": "1.5.0",
      "model_name": "DescriptionStyleModel",
      "state": {}
     },
     "c51c35c2618f439bfa60abb58e30c398": {
      "model_module": "@jupyter-widgets/controls",
      "model_module_version": "1.5.0",
      "model_name": "LabelModel",
      "state": {
       "layout": "IPY_MODEL_9e61e1c32982489d5a1fb6269120df0c",
       "style": "IPY_MODEL_f1a5d203d5dd47a9b52b12e27803a320",
       "value": "golf (float text)"
      }
     },
     "c7f1572c197e456f640f9a5e4f7df87b": {
      "model_module": "@jupyter-widgets/controls",
      "model_module_version": "1.5.0",
      "model_name": "DescriptionStyleModel",
      "state": {}
     },
     "c8498cfb00a541005ce659e07760d68e": {
      "model_module": "@jupyter-widgets/controls",
      "model_module_version": "1.5.0",
      "model_name": "FloatRangeSliderModel",
      "state": {
       "_model_name": "FloatRangeSliderModel",
       "_view_name": "FloatRangeSliderView",
       "layout": "IPY_MODEL_81c10f4ad82b4f370bd58fab32518507",
       "step": 0.1,
       "style": "IPY_MODEL_22f3dbc82d8a4bb6f6a526a345363d6b",
       "value": [
        0,
        1
       ]
      }
     },
     "c9e254d004aa404b2f7a765f8315a089": {
      "model_module": "@jupyter-widgets/controls",
      "model_module_version": "1.5.0",
      "model_name": "IntSliderModel",
      "state": {
       "layout": "IPY_MODEL_e7eaccb0fbff4545f6af4adcbbf190b2",
       "style": "IPY_MODEL_bfdfd8d9282e4f27f7301d278bf8b366"
      }
     },
     "ca500d866b9b4f9589cb2e62a15de1cb": {
      "model_module": "@jupyter-widgets/controls",
      "model_module_version": "1.5.0",
      "model_name": "DescriptionStyleModel",
      "state": {}
     },
     "ca7adb7f92e543533166ed03cf38aeb2": {
      "model_module": "@jupyter-widgets/controls",
      "model_module_version": "1.5.0",
      "model_name": "LabelModel",
      "state": {
       "layout": "IPY_MODEL_c051a3ab3bcd4682c64dc1f3ef833a3e",
       "style": "IPY_MODEL_19ee58faed824259232be126b1cc4b4f",
       "value": "hotel (float log-slider)"
      }
     },
     "ca86abdf03ff42eb701eb15641d3ddcd": {
      "model_module": "@jupyter-widgets/base",
      "model_module_version": "1.2.0",
      "model_name": "LayoutModel",
      "state": {}
     },
     "cc4668c01e4e4cecd3a10824d62b9cf3": {
      "model_module": "@jupyter-widgets/controls",
      "model_module_version": "1.5.0",
      "model_name": "IntTextModel",
      "state": {
       "continuous_update": true,
       "layout": "IPY_MODEL_293d51b8271546971a5c76e65771c5d5",
       "step": 1,
       "style": "IPY_MODEL_c4f9790f427f424b0032925e422098b0",
       "value": 7
      }
     },
     "cd0ce52e136f4b5a4eae82d8e7f3e088": {
      "model_module": "@jupyter-widgets/base",
      "model_module_version": "1.2.0",
      "model_name": "LayoutModel",
      "state": {}
     },
     "cd22b53e15ea43266a73477d9eb404ed": {
      "model_module": "@jupyter-widgets/controls",
      "model_module_version": "1.5.0",
      "model_name": "DescriptionStyleModel",
      "state": {}
     },
     "ce72855f5a8b45a5796f560cbe82bfa5": {
      "model_module": "@jupyter-widgets/controls",
      "model_module_version": "1.5.0",
      "model_name": "LabelModel",
      "state": {
       "layout": "IPY_MODEL_9862710aebfe4dcf19e38c58940f79e9",
       "style": "IPY_MODEL_14f0259578d5449a3296d560f8e318f3",
       "value": "hotel (float log-slider)"
      }
     },
     "ce84028d79c540172f43b2fbf2465e83": {
      "model_module": "@jupyter-widgets/base",
      "model_module_version": "1.2.0",
      "model_name": "LayoutModel",
      "state": {}
     },
     "cea5f7f960c54d6fe24665e97e2da85c": {
      "model_module": "@jupyter-widgets/controls",
      "model_module_version": "1.5.0",
      "model_name": "LabelModel",
      "state": {
       "layout": "IPY_MODEL_d8c3e1391776442763989938bf1804b4",
       "style": "IPY_MODEL_36783bc406734de12a0ed2fbbbc76803",
       "value": "november (int bounded-text)"
      }
     },
     "cf4ae6cc7e9b4cef7bf9246ff7b53542": {
      "model_module": "@jupyter-widgets/controls",
      "model_module_version": "1.5.0",
      "model_name": "ToggleButtonModel",
      "state": {
       "description": "toggle",
       "layout": "IPY_MODEL_dadda4adfe184315b37a2bbc661b510c",
       "style": "IPY_MODEL_93fbfd2af4ad4f2b4f7aa0558ba801a2",
       "tooltip": null
      }
     },
     "d1c69c1caa634e9027825a3698f5502f": {
      "model_module": "@jupyter-widgets/base",
      "model_module_version": "1.2.0",
      "model_name": "LayoutModel",
      "state": {}
     },
     "d30b71e520404542980ceb6f2d2cc11b": {
      "model_module": "@jupyter-widgets/base",
      "model_module_version": "1.2.0",
      "model_name": "LayoutModel",
      "state": {}
     },
     "d38663c543ee4ff22135acb79580191e": {
      "model_module": "@jupyter-widgets/controls",
      "model_module_version": "1.5.0",
      "model_name": "SelectionSliderModel",
      "state": {
       "_options_labels": [
        "fu",
        "bar",
        "wibble",
        "gronk",
        "kilroy"
       ],
       "index": null,
       "layout": "IPY_MODEL_df4b7471569e4d27e5b31593d6b71dab",
       "style": "IPY_MODEL_d66445b090c8406ac4e8f11aceea45f1"
      }
     },
     "d44965b78d6046e1157a0c5e6220198a": {
      "model_module": "@jupyter-widgets/controls",
      "model_module_version": "1.5.0",
      "model_name": "LabelModel",
      "state": {
       "layout": "IPY_MODEL_532e21f9b68d47782b21057e274ceed5",
       "style": "IPY_MODEL_c258d8d32a0b412407b372914ba572d4",
       "value": "papa (option select)"
      }
     },
     "d44de46c8674464621b1772acc94b4c3": {
      "model_module": "@jupyter-widgets/base",
      "model_module_version": "1.2.0",
      "model_name": "LayoutModel",
      "state": {}
     },
     "d4968d62ecb84b8f970d7d626da80fea": {
      "model_module": "@jupyter-widgets/controls",
      "model_module_version": "1.5.0",
      "model_name": "SelectMultipleModel",
      "state": {
       "_options_labels": [
        "fu",
        "bar",
        "wibble",
        "gronk",
        "kilroy"
       ],
       "index": false,
       "layout": "IPY_MODEL_e059480811254a139137b9fec3d8c9d8",
       "rows": 5,
       "style": "IPY_MODEL_a1a8765009b940be77fb7141569a7fe1"
      }
     },
     "d51c03e4de224ff00e1b8233725dd0bf": {
      "model_module": "@jupyter-widgets/base",
      "model_module_version": "1.2.0",
      "model_name": "LayoutModel",
      "state": {}
     },
     "d646c52e27134e5fbb627612d27b791f": {
      "model_module": "@jupyter-widgets/base",
      "model_module_version": "1.2.0",
      "model_name": "LayoutModel",
      "state": {}
     },
     "d66445b090c8406ac4e8f11aceea45f1": {
      "model_module": "@jupyter-widgets/controls",
      "model_module_version": "1.5.0",
      "model_name": "SliderStyleModel",
      "state": {}
     },
     "d66db577db314d15ce8affeded59b6af": {
      "model_module": "@jupyter-widgets/controls",
      "model_module_version": "1.5.0",
      "model_name": "SliderStyleModel",
      "state": {}
     },
     "d6b6c118e7564e82a4be9853293654ae": {
      "model_module": "@jupyter-widgets/base",
      "model_module_version": "1.2.0",
      "model_name": "LayoutModel",
      "state": {}
     },
     "d6c78837b51143c3143230403d7df0db": {
      "model_module": "@jupyter-widgets/base",
      "model_module_version": "1.2.0",
      "model_name": "LayoutModel",
      "state": {}
     },
     "d706e4b634ee411ddc5bbac903d89f7e": {
      "model_module": "@jupyter-widgets/base",
      "model_module_version": "1.2.0",
      "model_name": "LayoutModel",
      "state": {}
     },
     "d707b0afadbb4e810b61cb2d39647374": {
      "model_module": "@jupyter-widgets/controls",
      "model_module_version": "1.5.0",
      "model_name": "IntRangeSliderModel",
      "state": {
       "_model_name": "IntRangeSliderModel",
       "_view_name": "IntRangeSliderView",
       "layout": "IPY_MODEL_18ff0c12e6ee49ff4b5383cdc95c90c9",
       "style": "IPY_MODEL_3fe7713f04e2435e1652d6051cf20672",
       "value": [
        0,
        10
       ]
      }
     },
     "d8628ee40f044c31c92a172133f3e607": {
      "model_module": "@jupyter-widgets/base",
      "model_module_version": "1.2.0",
      "model_name": "LayoutModel",
      "state": {}
     },
     "d8634931959346cf6fcc87203036a493": {
      "model_module": "@jupyter-widgets/controls",
      "model_module_version": "1.5.0",
      "model_name": "LabelModel",
      "state": {
       "layout": "IPY_MODEL_e0372750ab1641b43c1afab5ff7b8180",
       "style": "IPY_MODEL_fa03e2d62529415735ecebf7a7763d05",
       "value": "xray (string area)"
      }
     },
     "d8c3e1391776442763989938bf1804b4": {
      "model_module": "@jupyter-widgets/base",
      "model_module_version": "1.2.0",
      "model_name": "LayoutModel",
      "state": {}
     },
     "da90c863ac154085ea58f91738bd6974": {
      "model_module": "@jupyter-widgets/base",
      "model_module_version": "1.2.0",
      "model_name": "LayoutModel",
      "state": {}
     },
     "dad615b7b6904cc9dbf147b4fe09c4e1": {
      "model_module": "@jupyter-widgets/controls",
      "model_module_version": "1.5.0",
      "model_name": "LabelModel",
      "state": {
       "layout": "IPY_MODEL_a96d6e8c617e40512ac0a3495f053c74",
       "style": "IPY_MODEL_fab6f5a83d0e41283fa52d3185500264",
       "value": "oscar (int-range)"
      }
     },
     "dadda4adfe184315b37a2bbc661b510c": {
      "model_module": "@jupyter-widgets/base",
      "model_module_version": "1.2.0",
      "model_name": "LayoutModel",
      "state": {
       "display": "block"
      }
     },
     "dc2febefee8645256fbc505f2f3387ef": {
      "model_module": "@jupyter-widgets/controls",
      "model_module_version": "1.5.0",
      "model_name": "BoundedFloatTextModel",
      "state": {
       "continuous_update": true,
       "layout": "IPY_MODEL_c028e3b6f7fd41b34647df22dd19744a",
       "style": "IPY_MODEL_b5b8009122c947dcfd359262ee909a3e"
      }
     },
     "dcf463e1cfd84bd577c126913449463a": {
      "model_module": "@jupyter-widgets/controls",
      "model_module_version": "1.5.0",
      "model_name": "SelectMultipleModel",
      "state": {
       "_options_labels": [
        "fu",
        "bar",
        "wibble",
        "gronk",
        "kilroy"
       ],
       "index": false,
       "layout": "IPY_MODEL_63d8631cd9b04ac0ffc523560d25806d",
       "rows": 5,
       "style": "IPY_MODEL_6897ab60f2364f2b15d305851b6f754f"
      }
     },
     "dd450f1b22254c345d78528e0f0975b5": {
      "model_module": "@jupyter-widgets/base",
      "model_module_version": "1.2.0",
      "model_name": "LayoutModel",
      "state": {}
     },
     "de73b252481f49c112cd25b68044e970": {
      "model_module": "@jupyter-widgets/controls",
      "model_module_version": "1.5.0",
      "model_name": "TextModel",
      "state": {
       "layout": "IPY_MODEL_806605f5511a4777c8b5f61d06388b63",
       "style": "IPY_MODEL_722ce048a42547ed0c204326c2459cdd"
      }
     },
     "df4b7471569e4d27e5b31593d6b71dab": {
      "model_module": "@jupyter-widgets/base",
      "model_module_version": "1.2.0",
      "model_name": "LayoutModel",
      "state": {}
     },
     "e02eddeed7e3401bce9caf692d0533fb": {
      "model_module": "@jupyter-widgets/controls",
      "model_module_version": "1.5.0",
      "model_name": "LabelModel",
      "state": {
       "layout": "IPY_MODEL_d6b6c118e7564e82a4be9853293654ae",
       "style": "IPY_MODEL_25b88d24885e4f4500c3870c96f45ebb",
       "value": "yankee (string combo)"
      }
     },
     "e0372750ab1641b43c1afab5ff7b8180": {
      "model_module": "@jupyter-widgets/base",
      "model_module_version": "1.2.0",
      "model_name": "LayoutModel",
      "state": {}
     },
     "e059480811254a139137b9fec3d8c9d8": {
      "model_module": "@jupyter-widgets/base",
      "model_module_version": "1.2.0",
      "model_name": "LayoutModel",
      "state": {}
     },
     "e0a84c6af61a49a2bc3cc170b421f9de": {
      "model_module": "@jupyter-widgets/controls",
      "model_module_version": "1.5.0",
      "model_name": "DescriptionStyleModel",
      "state": {}
     },
     "e0e5fad1946a4ff0138dc6b73e2af5c2": {
      "model_module": "@jupyter-widgets/base",
      "model_module_version": "1.2.0",
      "model_name": "LayoutModel",
      "state": {}
     },
     "e1c57dbb2c864f8d1b56ad813e347210": {
      "model_module": "@jupyter-widgets/controls",
      "model_module_version": "1.5.0",
      "model_name": "SliderStyleModel",
      "state": {}
     },
     "e34730626eac4873c6444319833e9903": {
      "model_module": "@jupyter-widgets/base",
      "model_module_version": "1.2.0",
      "model_name": "LayoutModel",
      "state": {}
     },
     "e382110e70574f797ba3a8d8b2827dc4": {
      "model_module": "@jupyter-widgets/controls",
      "model_module_version": "1.5.0",
      "model_name": "DescriptionStyleModel",
      "state": {}
     },
     "e49b66e96e4146db5b4c39ed5674c38c": {
      "model_module": "@jupyter-widgets/base",
      "model_module_version": "1.2.0",
      "model_name": "LayoutModel",
      "state": {}
     },
     "e67426e12af14fbd59f6df9e139aa16a": {
      "model_module": "@jupyter-widgets/controls",
      "model_module_version": "1.5.0",
      "model_name": "LabelModel",
      "state": {
       "layout": "IPY_MODEL_7be1fbc68d57465e6476255f5476ae94",
       "style": "IPY_MODEL_bce6daa654ab46da7d71cd055ee9adbb",
       "value": "echo (file)"
      }
     },
     "e7eaccb0fbff4545f6af4adcbbf190b2": {
      "model_module": "@jupyter-widgets/base",
      "model_module_version": "1.2.0",
      "model_name": "LayoutModel",
      "state": {}
     },
     "e8c7857c297b4c2614b700cc1532b6c3": {
      "model_module": "@jupyter-widgets/controls",
      "model_module_version": "1.5.0",
      "model_name": "LabelModel",
      "state": {
       "layout": "IPY_MODEL_6e03b8a597114e8c205d235ddb047875",
       "style": "IPY_MODEL_1f162c8f627041b9459f599e027bc2f3",
       "value": "tango (option toggle)"
      }
     },
     "e9efcb200fa846b3ddff9a21765fc4e3": {
      "model_module": "@jupyter-widgets/controls",
      "model_module_version": "1.5.0",
      "model_name": "DescriptionStyleModel",
      "state": {}
     },
     "ec381a8e1f2b43b43ab67c12e182f955": {
      "model_module": "@jupyter-widgets/controls",
      "model_module_version": "1.5.0",
      "model_name": "DescriptionStyleModel",
      "state": {}
     },
     "ec3c143ee8764e436691678be832a6ec": {
      "model_module": "@jupyter-widgets/controls",
      "model_module_version": "1.5.0",
      "model_name": "DescriptionStyleModel",
      "state": {}
     },
     "ed61a842c02f4b62199d5fba5c42a842": {
      "model_module": "@jupyter-widgets/controls",
      "model_module_version": "1.5.0",
      "model_name": "RadioButtonsModel",
      "state": {
       "_options_labels": [
        "fu",
        "bar",
        "wibble",
        "gronk",
        "kilroy"
       ],
       "index": null,
       "layout": "IPY_MODEL_87509be48da94dae7ce4885b144b392e",
       "rows": 5,
       "style": "IPY_MODEL_6d81e37b99d14844328dee9a110f8698"
      }
     },
     "ee163cd97cb640dca72ccb1cdcc34fca": {
      "model_module": "@jupyter-widgets/controls",
      "model_module_version": "1.5.0",
      "model_name": "DescriptionStyleModel",
      "state": {}
     },
     "ef5ee5151b90461231dc5632932f9396": {
      "model_module": "@jupyter-widgets/controls",
      "model_module_version": "1.5.0",
      "model_name": "FloatLogSliderModel",
      "state": {
       "layout": "IPY_MODEL_83b1386e0551474b19efa04421866ab7",
       "max": 100,
       "style": "IPY_MODEL_35ae042f3a414b9616cab5ab8b337773",
       "value": 0
      }
     },
     "f1198c6a2f3943fbe189a51c4efb6b3c": {
      "model_module": "@jupyter-widgets/controls",
      "model_module_version": "1.5.0",
      "model_name": "DescriptionStyleModel",
      "state": {}
     },
     "f1540a85b34d4e4fa8a084aca79d536a": {
      "model_module": "@jupyter-widgets/controls",
      "model_module_version": "1.5.0",
      "model_name": "SelectionRangeSliderModel",
      "state": {
       "_model_name": "SelectionRangeSliderModel",
       "_options_labels": [
        "fu",
        "bar",
        "wibble",
        "gronk",
        "kilroy"
       ],
       "_view_name": "SelectionRangeSliderView",
       "index": [
        0,
        0
       ],
       "layout": "IPY_MODEL_fb387b0d04814e98b0d83f643a954bf3",
       "style": "IPY_MODEL_627009119c7b4a4a36e3ace9d1681325"
      }
     },
     "f1a5d203d5dd47a9b52b12e27803a320": {
      "model_module": "@jupyter-widgets/controls",
      "model_module_version": "1.5.0",
      "model_name": "DescriptionStyleModel",
      "state": {}
     },
     "f2ba8a81178948392b7f25f4e99574f6": {
      "model_module": "@jupyter-widgets/base",
      "model_module_version": "1.2.0",
      "model_name": "LayoutModel",
      "state": {}
     },
     "f34d429ee3c54499ae495e72f06e42d7": {
      "model_module": "@jupyter-widgets/base",
      "model_module_version": "1.2.0",
      "model_name": "LayoutModel",
      "state": {}
     },
     "f4680aede5644df03c19ea824f1f5756": {
      "model_module": "@jupyter-widgets/controls",
      "model_module_version": "1.5.0",
      "model_name": "DescriptionStyleModel",
      "state": {}
     },
     "f50ca9ae1fa94854de5cc806d7fae1b1": {
      "model_module": "@jupyter-widgets/controls",
      "model_module_version": "1.5.0",
      "model_name": "DescriptionStyleModel",
      "state": {}
     },
     "f58e5a119ad84031bae6f9df96645eac": {
      "model_module": "@jupyter-widgets/base",
      "model_module_version": "1.2.0",
      "model_name": "LayoutModel",
      "state": {}
     },
     "f6259fa74787455eb5778f856225a13e": {
      "model_module": "@jupyter-widgets/controls",
      "model_module_version": "1.5.0",
      "model_name": "ToggleButtonsModel",
      "state": {
       "_options_labels": [
        "fu",
        "bar",
        "wibble",
        "gronk",
        "kilroy"
       ],
       "button_style": "",
       "icons": "",
       "index": null,
       "layout": "IPY_MODEL_6390112954bf494cbfc5ac89b1444239",
       "style": "IPY_MODEL_9973e7dac6d84f835f596062e7a55c93"
      }
     },
     "f661325619de49812fa5072efe3e93ae": {
      "model_module": "@jupyter-widgets/controls",
      "model_module_version": "1.5.0",
      "model_name": "TextareaModel",
      "state": {
       "layout": "IPY_MODEL_5e72a8e2c9b845cad01fd6fdf3aba9dc",
       "style": "IPY_MODEL_441b3f351a0246596626171a9ed46809"
      }
     },
     "f66cfe58be544fce61c3738105e8028e": {
      "model_module": "@jupyter-widgets/controls",
      "model_module_version": "1.5.0",
      "model_name": "DescriptionStyleModel",
      "state": {}
     },
     "f6a8726f36684507f4a286b5e4c06608": {
      "model_module": "@jupyter-widgets/base",
      "model_module_version": "1.2.0",
      "model_name": "LayoutModel",
      "state": {}
     },
     "f8145a6307014dfc69d5b2a27d4222b2": {
      "model_module": "@jupyter-widgets/base",
      "model_module_version": "1.2.0",
      "model_name": "LayoutModel",
      "state": {}
     },
     "f848f45459a545d39a6f2c716addd13d": {
      "model_module": "@jupyter-widgets/controls",
      "model_module_version": "1.5.0",
      "model_name": "LabelModel",
      "state": {
       "layout": "IPY_MODEL_ac5d955112a54f6c8f4f90a1c4388ea4",
       "style": "IPY_MODEL_ee163cd97cb640dca72ccb1cdcc34fca",
       "value": "tango (option toggle)"
      }
     },
     "f9cd6f7eb5a04987f06f1f9aa5ff53f1": {
      "model_module": "@jupyter-widgets/controls",
      "model_module_version": "1.5.0",
      "model_name": "IntRangeSliderModel",
      "state": {
       "_model_name": "IntRangeSliderModel",
       "_view_name": "IntRangeSliderView",
       "layout": "IPY_MODEL_c2460830f99c480a7be278607c4dfcc5",
       "style": "IPY_MODEL_e1c57dbb2c864f8d1b56ad813e347210",
       "value": [
        0,
        10
       ]
      }
     },
     "fa03e2d62529415735ecebf7a7763d05": {
      "model_module": "@jupyter-widgets/controls",
      "model_module_version": "1.5.0",
      "model_name": "DescriptionStyleModel",
      "state": {}
     },
     "fa730831dfa249517b977fb169405d69": {
      "model_module": "@jupyter-widgets/controls",
      "model_module_version": "1.5.0",
      "model_name": "ComboboxModel",
      "state": {
       "ensure_option": true,
       "layout": "IPY_MODEL_7a9d33b27e6d406c9af70195b8bda5b1",
       "options": [
        "fu",
        "bar",
        "wibble",
        "gronk",
        "kilroy"
       ],
       "style": "IPY_MODEL_6e0476ba7ae1430f96f8b1c24bbef9d3"
      }
     },
     "fab6f5a83d0e41283fa52d3185500264": {
      "model_module": "@jupyter-widgets/controls",
      "model_module_version": "1.5.0",
      "model_name": "DescriptionStyleModel",
      "state": {}
     },
     "fb387b0d04814e98b0d83f643a954bf3": {
      "model_module": "@jupyter-widgets/base",
      "model_module_version": "1.2.0",
      "model_name": "LayoutModel",
      "state": {}
     },
     "fd72c9db3e794f48d0f0bc15db6a34c6": {
      "model_module": "@jupyter-widgets/controls",
      "model_module_version": "1.5.0",
      "model_name": "DescriptionStyleModel",
      "state": {}
     },
     "ff8127ed2b944a4a9f4208a34d061730": {
      "model_module": "@jupyter-widgets/controls",
      "model_module_version": "1.5.0",
      "model_name": "LabelModel",
      "state": {
       "layout": "IPY_MODEL_c185cd1f701e43f48b323d9e6eeeafe4",
       "style": "IPY_MODEL_62ded3b38dbe4f3cdf268b14caa9b618",
       "value": "victor (option-multiple)"
      }
     }
    },
    "version_major": 2,
    "version_minor": 0
   }
  }
 },
 "nbformat": 4,
 "nbformat_minor": 4
}
